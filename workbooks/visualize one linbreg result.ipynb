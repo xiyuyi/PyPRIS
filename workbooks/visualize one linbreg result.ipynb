{
 "cells": [
  {
   "cell_type": "markdown",
   "metadata": {},
   "source": [
    "### Import tools"
   ]
  },
  {
   "cell_type": "code",
   "execution_count": 1,
   "metadata": {},
   "outputs": [],
   "source": [
    "import sys\n",
    "sys.path.append(\"/u/home/x/xiyuyi/bin\")\n",
    "sys.path.append(\"../PyPRIS\")\n",
    "sys.path.append('/Users/yi10/PyPRIS')\n",
    "from PyPRIS import *\n",
    "import bokeh.io\n",
    "from bokeh.plotting import figure, output_file, show, output_notebook\n",
    "#from bokeh.resources import INLINE\n",
    "#bokeh.io.output_notebook(INLINE)"
   ]
  },
  {
   "cell_type": "markdown",
   "metadata": {},
   "source": [
    "### Define the path strings"
   ]
  },
  {
   "cell_type": "code",
   "execution_count": 2,
   "metadata": {},
   "outputs": [],
   "source": [
    "tickets_path='/Users/yi10/Desktop/Research/Projects/P-SPT-PRIS-RAS/results'\n",
    "frameN=3504\n",
    "lbpath=tickets_path+'/frame'+str(frameN)+'/saved_objects/PyPRIS_frame'+str(frameN)+'_pris4_1000.file'\n",
    "\n",
    "tickets_path='/Users/yi10/Desktop/Research/Projects/P-SPT-PRIS-RAS/simulations/Simu3_validation_of_fittingPerformance_static2D_varDensity/prep_for_PRIS/tickets_chara_Batch15_noisy_bg20_timeBin1'\n",
    "frameN=1\n",
    "lbpath=tickets_path+'/frame'+str(frameN)+'/saved_objects/PyPRIS_frame'+str(frameN)+'_pris4_2001.file'\n",
    "\n",
    "objects_path = tickets_path+'/frame'+str(frameN)+'/saved_objects'\n",
    "\n",
    "path='';\n",
    "PyPRIS_name='PyPRIS_frame'+str(frameN)+'_pris4_3000'\n",
    "PyPRIS_SensMx_name='PyPRIS_frame'+str(frameN)+'_pris4_SensingMx'\n",
    "lb=loadCSSolver(objects_path, PyPRIS_name, PyPRIS_SensMx_name)\n",
    "pypris = loadPyPRIS(objects_path, 'PyPRIS_pris{}'.format(lb.PyPRIS_iter[4:]))\n",
    "pypris0=copy.deepcopy(pypris)\n",
    "\n",
    "pris0 = loadPyPRIS(objects_path, 'PyPRIS_pris0')\n",
    "pris1 = loadPyPRIS(objects_path, 'PyPRIS_pris1')\n",
    "pris2 = loadPyPRIS(objects_path, 'PyPRIS_pris2')\n",
    "pris3 = loadPyPRIS(objects_path, 'PyPRIS_pris3')\n",
    "pris4 = loadPyPRIS(objects_path, 'PyPRIS_pris4')\n"
   ]
  },
  {
   "cell_type": "markdown",
   "metadata": {},
   "source": [
    "### Perform classification\n",
    "perform classification of fitted clusters, and output to a .csv file"
   ]
  },
  {
   "cell_type": "code",
   "execution_count": 3,
   "metadata": {},
   "outputs": [
    {
     "name": "stdout",
     "output_type": "stream",
     "text": [
      "----------- Generate sensing matrix:\n",
      "            Matrix size: 16384  observation pixels \n",
      "                         256  candidates \n"
     ]
    }
   ],
   "source": [
    "outputfile='./clusters.csv'\n",
    "try:\n",
    "    os.remove(outputfile)\n",
    "except:\n",
    "    pass\n",
    "\n",
    "# convert the result from a linbreg object to a list of localizations using clasification.\n",
    "locs=get_clusters_fromlinbreg(lbpath, \n",
    "                           ticketIndex=1, \n",
    "                           csvpath=outputfile, \n",
    "                           D=2, \n",
    "                           save=True)\n",
    "candidate_locs = np.array(pypris.current_candidates)\n",
    "# find the PSF peak offset\n",
    "offset = find_psf_matrix_offset(pypris)"
   ]
  },
  {
   "cell_type": "markdown",
   "metadata": {},
   "source": [
    "### Visualization"
   ]
  },
  {
   "cell_type": "code",
   "execution_count": 4,
   "metadata": {},
   "outputs": [],
   "source": [
    "with open(lbpath,'rb') as f:\n",
    "    lb=pickle.load(f)\n",
    "    \n",
    "from PyPRIS import vis\n",
    "vis.pris_show(locs+offset[[2,1,0]], candidate_locs+offset, lb, outputhtml='./FittingResult.html', saveoption='False')"
   ]
  },
  {
   "cell_type": "code",
   "execution_count": 5,
   "metadata": {},
   "outputs": [],
   "source": [
    "# visualize the support off different pris iteration numbers.\n",
    "cands0=np.array(pris0.current_candidates)[:,0:3]+offset;\n",
    "cands1=np.asarray(pris1.current_candidates)+offset;\n",
    "cands2=np.asarray(pris2.current_candidates)+offset;\n",
    "cands3=np.asarray(pris3.current_candidates)+offset;\n",
    "cands4=np.asarray(pris4.current_candidates)+offset;\n",
    "\n",
    "vis.pris_show_pris0to4(locs+offset[[2,1,0]], cands0, cands1, cands2, cands3, cands4, lb, outputhtml='./PRIS_support.html', saveoption='False')\n"
   ]
  },
  {
   "cell_type": "code",
   "execution_count": null,
   "metadata": {},
   "outputs": [],
   "source": []
  }
 ],
 "metadata": {
  "kernelspec": {
   "display_name": "pris",
   "language": "python",
   "name": "pris"
  },
  "language_info": {
   "codemirror_mode": {
    "name": "ipython",
    "version": 3
   },
   "file_extension": ".py",
   "mimetype": "text/x-python",
   "name": "python",
   "nbconvert_exporter": "python",
   "pygments_lexer": "ipython3",
   "version": "3.7.3"
  }
 },
 "nbformat": 4,
 "nbformat_minor": 4
}
