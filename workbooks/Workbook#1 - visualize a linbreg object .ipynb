{
 "cells": [
  {
   "cell_type": "markdown",
   "metadata": {},
   "source": [
    "# Workbook \\#1 -- visualize a linbreg object and it's corresponding pypris pair"
   ]
  },
  {
   "cell_type": "markdown",
   "metadata": {},
   "source": [
    "### Import tools"
   ]
  },
  {
   "cell_type": "code",
   "execution_count": 2,
   "metadata": {},
   "outputs": [],
   "source": [
    "import sys\n",
    "sys.path.append(\"/u/home/x/xiyuyi/bin\")\n",
    "sys.path.append(\"../PyPRIS\")\n",
    "sys.path.append('/Users/yi10/PyPRIS')\n",
    "from PyPRIS import *\n",
    "import bokeh.io\n",
    "from bokeh.plotting import figure, output_file, show, output_notebook\n",
    "#from bokeh.resources import INLINE\n",
    "#bokeh.io.output_notebook(INLINE)"
   ]
  },
  {
   "cell_type": "code",
   "execution_count": 6,
   "metadata": {},
   "outputs": [
    {
     "name": "stdout",
     "output_type": "stream",
     "text": [
      "abd\n"
     ]
    }
   ],
   "source": [
    "try:\n",
    "    with open('{}/{}.file'.format(objects_path, PyPRIS_SensMx_name), \"rb\") as s:\n",
    "        linbreg.A = joblib.load(s)\n",
    "except:\n",
    "    print('abd')\n",
    "    pass"
   ]
  },
  {
   "cell_type": "markdown",
   "metadata": {},
   "source": [
    "### Define the path strings"
   ]
  },
  {
   "cell_type": "code",
   "execution_count": 4,
   "metadata": {},
   "outputs": [
    {
     "ename": "FileNotFoundError",
     "evalue": "[Errno 2] No such file or directory: '/Users/yi10/Desktop/Research/Projects/P-SPT-PRIS-RAS/results/frame3504/saved_objects/PyPRIS_frame3504_pris4_SensingMx.file'",
     "output_type": "error",
     "traceback": [
      "\u001b[0;31m---------------------------------------------------------------------------\u001b[0m",
      "\u001b[0;31mFileNotFoundError\u001b[0m                         Traceback (most recent call last)",
      "\u001b[0;32m<ipython-input-4-25061dda2f6a>\u001b[0m in \u001b[0;36m<module>\u001b[0;34m\u001b[0m\n\u001b[1;32m      7\u001b[0m \u001b[0mlbpath\u001b[0m\u001b[0;34m=\u001b[0m\u001b[0mobjects_path\u001b[0m \u001b[0;34m+\u001b[0m \u001b[0;34m'/PyPRIS_frame'\u001b[0m\u001b[0;34m+\u001b[0m\u001b[0mstr\u001b[0m\u001b[0;34m(\u001b[0m\u001b[0mframeN\u001b[0m\u001b[0;34m)\u001b[0m\u001b[0;34m+\u001b[0m\u001b[0;34m'_pris4_1000.file'\u001b[0m\u001b[0;34m\u001b[0m\u001b[0;34m\u001b[0m\u001b[0m\n\u001b[1;32m      8\u001b[0m \u001b[0;34m\u001b[0m\u001b[0m\n\u001b[0;32m----> 9\u001b[0;31m \u001b[0mlb\u001b[0m\u001b[0;34m=\u001b[0m\u001b[0mloadCSSolver\u001b[0m\u001b[0;34m(\u001b[0m\u001b[0mobjects_path\u001b[0m\u001b[0;34m,\u001b[0m \u001b[0mPyPRIS_name\u001b[0m\u001b[0;34m,\u001b[0m \u001b[0mPyPRIS_SensMx_name\u001b[0m\u001b[0;34m)\u001b[0m\u001b[0;34m\u001b[0m\u001b[0;34m\u001b[0m\u001b[0m\n\u001b[0m\u001b[1;32m     10\u001b[0m \u001b[0mpypris\u001b[0m \u001b[0;34m=\u001b[0m \u001b[0mloadPyPRIS\u001b[0m\u001b[0;34m(\u001b[0m\u001b[0mobjects_path\u001b[0m\u001b[0;34m,\u001b[0m \u001b[0;34m'PyPRIS_pris{}'\u001b[0m\u001b[0;34m.\u001b[0m\u001b[0mformat\u001b[0m\u001b[0;34m(\u001b[0m\u001b[0mlb\u001b[0m\u001b[0;34m.\u001b[0m\u001b[0mPyPRIS_iter\u001b[0m\u001b[0;34m[\u001b[0m\u001b[0;36m4\u001b[0m\u001b[0;34m:\u001b[0m\u001b[0;34m]\u001b[0m\u001b[0;34m)\u001b[0m\u001b[0;34m)\u001b[0m\u001b[0;34m\u001b[0m\u001b[0;34m\u001b[0m\u001b[0m\n\u001b[1;32m     11\u001b[0m \u001b[0;34m\u001b[0m\u001b[0m\n",
      "\u001b[0;32m~/PyPRIS/PyPRIS/PRIS.py\u001b[0m in \u001b[0;36mloadCSSolver\u001b[0;34m(path, PyPRIS_name, PyPRIS_SensMx_name)\u001b[0m\n\u001b[1;32m    727\u001b[0m \u001b[0;34m\u001b[0m\u001b[0m\n\u001b[1;32m    728\u001b[0m     \u001b[0;32mtry\u001b[0m\u001b[0;34m:\u001b[0m\u001b[0;34m\u001b[0m\u001b[0;34m\u001b[0m\u001b[0m\n\u001b[0;32m--> 729\u001b[0;31m         \u001b[0;32mwith\u001b[0m \u001b[0mopen\u001b[0m\u001b[0;34m(\u001b[0m\u001b[0;34m'{}/{}.file'\u001b[0m\u001b[0;34m.\u001b[0m\u001b[0mformat\u001b[0m\u001b[0;34m(\u001b[0m\u001b[0mpath\u001b[0m\u001b[0;34m,\u001b[0m \u001b[0mPyPRIS_SensMx_name\u001b[0m\u001b[0;34m)\u001b[0m\u001b[0;34m,\u001b[0m \u001b[0;34m\"rb\"\u001b[0m\u001b[0;34m)\u001b[0m \u001b[0;32mas\u001b[0m \u001b[0ms\u001b[0m\u001b[0;34m:\u001b[0m\u001b[0;34m\u001b[0m\u001b[0;34m\u001b[0m\u001b[0m\n\u001b[0m\u001b[1;32m    730\u001b[0m             \u001b[0mlinbreg\u001b[0m\u001b[0;34m.\u001b[0m\u001b[0mA\u001b[0m \u001b[0;34m=\u001b[0m \u001b[0mjoblib\u001b[0m\u001b[0;34m.\u001b[0m\u001b[0mload\u001b[0m\u001b[0;34m(\u001b[0m\u001b[0ms\u001b[0m\u001b[0;34m)\u001b[0m\u001b[0;34m\u001b[0m\u001b[0;34m\u001b[0m\u001b[0m\n\u001b[1;32m    731\u001b[0m     \u001b[0;32mexcept\u001b[0m \u001b[0mWarning\u001b[0m\u001b[0;34m:\u001b[0m\u001b[0;34m\u001b[0m\u001b[0;34m\u001b[0m\u001b[0m\n",
      "\u001b[0;31mFileNotFoundError\u001b[0m: [Errno 2] No such file or directory: '/Users/yi10/Desktop/Research/Projects/P-SPT-PRIS-RAS/results/frame3504/saved_objects/PyPRIS_frame3504_pris4_SensingMx.file'"
     ]
    }
   ],
   "source": [
    "frameN=3504\n",
    "tickets_path='/Users/yi10/Desktop/Research/Projects/P-SPT-PRIS-RAS/results'\n",
    "objects_path = tickets_path+'/frame'+str(frameN)+'/saved_objects'\n",
    "\n",
    "PyPRIS_name='PyPRIS_frame'+str(frameN)+'_pris4_1000'\n",
    "PyPRIS_SensMx_name='PyPRIS_frame'+str(frameN)+'_pris4_SensingMx'\n",
    "lbpath=objects_path + '/PyPRIS_frame'+str(frameN)+'_pris4_1000.file'\n",
    "\n",
    "lb=loadCSSolver(objects_path, PyPRIS_name, PyPRIS_SensMx_name)\n",
    "pypris = loadPyPRIS(objects_path, 'PyPRIS_pris{}'.format(lb.PyPRIS_iter[4:]))\n",
    "\n"
   ]
  },
  {
   "cell_type": "markdown",
   "metadata": {},
   "source": [
    "### Perform classification\n",
    "perform classification of fitted clusters, and output to a .csv file"
   ]
  },
  {
   "cell_type": "code",
   "execution_count": 3,
   "metadata": {},
   "outputs": [
    {
     "name": "stdout",
     "output_type": "stream",
     "text": [
      "----------- Generate sensing matrix:\n",
      "            Matrix size: 16384  observation pixels \n",
      "                         256  candidates \n"
     ]
    }
   ],
   "source": [
    "outputfile='./clusters.csv'\n",
    "try:\n",
    "    os.remove(outputfile)\n",
    "except:\n",
    "    pass\n",
    "\n",
    "# convert the result from a linbreg object to a list of localizations using clasification.\n",
    "locs=get_clusters_fromlinbreg(lbpath, \n",
    "                           ticketIndex=1, \n",
    "                           csvpath=outputfile, \n",
    "                           D=2, \n",
    "                           save=True)\n",
    "candidate_locs = np.array(pypris.current_candidates)\n",
    "# find the PSF peak offset\n",
    "offset = find_psf_matrix_offset(pypris)"
   ]
  },
  {
   "cell_type": "markdown",
   "metadata": {},
   "source": [
    "### Visualization"
   ]
  },
  {
   "cell_type": "code",
   "execution_count": 4,
   "metadata": {},
   "outputs": [],
   "source": [
    "with open(lbpath,'rb') as f:\n",
    "    lb=pickle.load(f)\n",
    "    \n",
    "from PyPRIS import vis\n",
    "vis.pris_show(locs+offset[[2,1,0]], candidate_locs+offset, lb, outputhtml='./FittingResult.html', saveoption='False')"
   ]
  },
  {
   "cell_type": "code",
   "execution_count": 5,
   "metadata": {},
   "outputs": [],
   "source": [
    "# visualize the support off different pris iteration numbers.\n",
    "cands0=np.array(pris0.current_candidates)[:,0:3]+offset;\n",
    "cands1=np.asarray(pris1.current_candidates)+offset;\n",
    "cands2=np.asarray(pris2.current_candidates)+offset;\n",
    "cands3=np.asarray(pris3.current_candidates)+offset;\n",
    "cands4=np.asarray(pris4.current_candidates)+offset;\n",
    "\n",
    "vis.pris_show_pris0to4(locs+offset[[2,1,0]], cands0, cands1, cands2, cands3, cands4, lb, outputhtml='./PRIS_support.html', saveoption='False')\n"
   ]
  },
  {
   "cell_type": "code",
   "execution_count": null,
   "metadata": {},
   "outputs": [],
   "source": []
  }
 ],
 "metadata": {
  "kernelspec": {
   "display_name": "pris",
   "language": "python",
   "name": "pris"
  },
  "language_info": {
   "codemirror_mode": {
    "name": "ipython",
    "version": 3
   },
   "file_extension": ".py",
   "mimetype": "text/x-python",
   "name": "python",
   "nbconvert_exporter": "python",
   "pygments_lexer": "ipython3",
   "version": "3.7.3"
  }
 },
 "nbformat": 4,
 "nbformat_minor": 4
}
