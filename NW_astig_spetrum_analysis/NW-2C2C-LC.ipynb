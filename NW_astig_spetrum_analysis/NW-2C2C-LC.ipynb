{
 "cells": [
  {
   "cell_type": "markdown",
   "metadata": {},
   "source": [
    "### Analyze the 2 color, 2 channel dataset acquired at North Western Univeristy.\n",
    "reconstruction results are stored on LC:   <font color='blue'>/p/lscratchh/yi10/PRIS</font> "
   ]
  },
  {
   "cell_type": "code",
   "execution_count": 1,
   "metadata": {},
   "outputs": [],
   "source": [
    "import sys\n",
    "sys.path.append(\"/g/g92/yi10/PyPRIS\")\n",
    "from PyPRIS import *\n",
    "import os\n",
    "import pandas as pd"
   ]
  },
  {
   "cell_type": "markdown",
   "metadata": {},
   "source": [
    "### Datasets\n",
    "- Total number of full images: 17\n",
    "- Each full image has 12 tiles.\n",
    "- Each tile has 2 converging threshold values, 15 or 17.\n",
    "\n",
    "\n",
    "\n"
   ]
  },
  {
   "cell_type": "code",
   "execution_count": 2,
   "metadata": {},
   "outputs": [],
   "source": [
    "p1 = '/p/lscratchh/yi10/PRIS' # path to all images.\n",
    "p_ims=next(os.walk(p1))[1] # The directories for the reconstruction of each image.\n"
   ]
  },
  {
   "cell_type": "code",
   "execution_count": 3,
   "metadata": {
    "collapsed": true
   },
   "outputs": [
    {
     "data": {
      "text/plain": [
       "['PyPRIS_V1F1_top100_tiles_50kIt',\n",
       " 'PyPRIS_V2F290_top100_tiles_50kIt',\n",
       " 'PyPRIS_V3F390_top100_tiles_50kIt',\n",
       " 'PyPRIS_V4F406_top100_tiles_50kIt',\n",
       " 'PyPRIS_V2F500_top100_tiles_50kIt',\n",
       " 'PyPRIS_V2F472_top100_tiles_50kIt',\n",
       " 'PyPRIS_V1F3_top100_tiles_50kIt',\n",
       " 'PyPRIS_V1F558_top100_tiles_50kIt',\n",
       " 'PyPRIS_V2F300_top100_tiles_50kIt',\n",
       " 'PyPRIS_V3F430_top100_tiles_50kIt',\n",
       " 'PyPRIS_V1F505_top100_tiles_50kIt',\n",
       " 'PyPRIS_V3F410_top100_tiles_50kIt',\n",
       " 'PyPRIS_V1F2_top100_tiles_50kIt',\n",
       " 'PyPRIS_V2F452_top100_tiles_50kIt',\n",
       " 'PyPRIS_V1F534_top100_tiles_50kIt',\n",
       " 'PyPRIS_V2F276_top100_tiles_50kIt',\n",
       " 'PyPRIS_V4F437_top100_tiles_50kIt']"
      ]
     },
     "execution_count": 3,
     "metadata": {},
     "output_type": "execute_result"
    }
   ],
   "source": [
    "# folders for all the full images\n",
    "p_ims"
   ]
  },
  {
   "cell_type": "code",
   "execution_count": 4,
   "metadata": {
    "collapsed": true
   },
   "outputs": [
    {
     "data": {
      "text/plain": [
       "['bgSCF8_mu1.0e+02_alpha1.0e-09_thres-15_c08_zrange-100to100_yrange35to80_xrange35to80',\n",
       " 'bgSCF8_mu1.0e+02_alpha1.0e-09_thres-17_c19_zrange-100to100_yrange105to140_xrange1to45',\n",
       " 'bgSCF8_mu1.0e+02_alpha1.0e-09_thres-17_c17_zrange-100to100_yrange70to115_xrange130to175',\n",
       " 'bgSCF8_mu1.0e+02_alpha1.0e-09_thres-17_c12_zrange-100to100_yrange35to80_xrange165to212',\n",
       " 'bgSCF8_mu1.0e+02_alpha1.0e-09_thres-15_c02_zrange-100to100_yrange1to45_xrange35to80',\n",
       " 'bgSCF8_mu1.0e+02_alpha1.0e-09_thres-17_c11_zrange-100to100_yrange35to80_xrange130to175',\n",
       " 'bgSCF8_mu1.0e+02_alpha1.0e-09_thres-17_c07_zrange-100to100_yrange35to80_xrange1to45',\n",
       " 'bgSCF8_mu1.0e+02_alpha1.0e-09_thres-15_c21_zrange-100to100_yrange105to140_xrange70to110',\n",
       " 'bgSCF8_mu1.0e+02_alpha1.0e-09_thres-15_c22_zrange-100to100_yrange105to140_xrange105to140',\n",
       " 'bgSCF8_mu1.0e+02_alpha1.0e-09_thres-17_c04_zrange-100to100_yrange1to45_xrange105to140',\n",
       " 'bgSCF8_mu1.0e+02_alpha1.0e-09_thres-15_c15_zrange-100to100_yrange70to115_xrange70to110',\n",
       " 'bgSCF8_mu1.0e+02_alpha1.0e-09_thres-17_c13_zrange-100to100_yrange70to115_xrange1to45',\n",
       " 'bgSCF8_mu1.0e+02_alpha1.0e-09_thres-17_c10_zrange-100to100_yrange35to80_xrange105to140',\n",
       " 'bgSCF8_mu1.0e+02_alpha1.0e-09_thres-15_c01_zrange-100to100_yrange1to45_xrange1to45',\n",
       " 'bgSCF8_mu1.0e+02_alpha1.0e-09_thres-15_c14_zrange-100to100_yrange70to115_xrange35to80',\n",
       " 'bgSCF8_mu1.0e+02_alpha1.0e-09_thres-17_c16_zrange-100to100_yrange70to115_xrange105to140',\n",
       " 'bgSCF8_mu1.0e+02_alpha1.0e-09_thres-17_c03_zrange-100to100_yrange1to45_xrange70to110',\n",
       " 'bgSCF8_mu1.0e+02_alpha1.0e-09_thres-17_c09_zrange-100to100_yrange35to80_xrange70to110',\n",
       " 'bgSCF8_mu1.0e+02_alpha1.0e-09_thres-17_c18_zrange-100to100_yrange70to115_xrange165to212',\n",
       " 'bgSCF8_mu1.0e+02_alpha1.0e-09_thres-17_c22_zrange-100to100_yrange105to140_xrange105to140',\n",
       " 'bgSCF8_mu1.0e+02_alpha1.0e-09_thres-15_c06_zrange-100to100_yrange1to45_xrange165to212',\n",
       " 'bgSCF8_mu1.0e+02_alpha1.0e-09_thres-17_c05_zrange-100to100_yrange1to45_xrange130to175',\n",
       " 'bgSCF8_mu1.0e+02_alpha1.0e-09_thres-15_c20_zrange-100to100_yrange105to140_xrange35to80',\n",
       " 'bgSCF8_mu1.0e+02_alpha1.0e-09_thres-15_c07_zrange-100to100_yrange35to80_xrange1to45',\n",
       " 'bgSCF8_mu1.0e+02_alpha1.0e-09_thres-17_c08_zrange-100to100_yrange35to80_xrange35to80',\n",
       " 'bgSCF8_mu1.0e+02_alpha1.0e-09_thres-17_c06_zrange-100to100_yrange1to45_xrange165to212',\n",
       " 'bgSCF8_mu1.0e+02_alpha1.0e-09_thres-15_c05_zrange-100to100_yrange1to45_xrange130to175',\n",
       " 'bgSCF8_mu1.0e+02_alpha1.0e-09_thres-17_c21_zrange-100to100_yrange105to140_xrange70to110',\n",
       " 'bgSCF8_mu1.0e+02_alpha1.0e-09_thres-15_c09_zrange-100to100_yrange35to80_xrange70to110',\n",
       " 'bgSCF8_mu1.0e+02_alpha1.0e-09_thres-17_c24_zrange-100to100_yrange105to140_xrange165to212',\n",
       " 'bgSCF8_mu1.0e+02_alpha1.0e-09_thres-17_c14_zrange-100to100_yrange70to115_xrange35to80',\n",
       " 'bgSCF8_mu1.0e+02_alpha1.0e-09_thres-15_c24_zrange-100to100_yrange105to140_xrange165to212',\n",
       " 'bgSCF8_mu1.0e+02_alpha1.0e-09_thres-15_c16_zrange-100to100_yrange70to115_xrange105to140',\n",
       " 'bgSCF8_mu1.0e+02_alpha1.0e-09_thres-15_c12_zrange-100to100_yrange35to80_xrange165to212',\n",
       " 'bgSCF8_mu1.0e+02_alpha1.0e-09_thres-15_c11_zrange-100to100_yrange35to80_xrange130to175',\n",
       " 'bgSCF8_mu1.0e+02_alpha1.0e-09_thres-15_c04_zrange-100to100_yrange1to45_xrange105to140',\n",
       " 'bgSCF8_mu1.0e+02_alpha1.0e-09_thres-15_c18_zrange-100to100_yrange70to115_xrange165to212',\n",
       " 'bgSCF8_mu1.0e+02_alpha1.0e-09_thres-17_c15_zrange-100to100_yrange70to115_xrange70to110',\n",
       " 'bgSCF8_mu1.0e+02_alpha1.0e-09_thres-15_c10_zrange-100to100_yrange35to80_xrange105to140',\n",
       " 'bgSCF8_mu1.0e+02_alpha1.0e-09_thres-17_c23_zrange-100to100_yrange105to140_xrange130to175',\n",
       " 'bgSCF8_mu1.0e+02_alpha1.0e-09_thres-15_c13_zrange-100to100_yrange70to115_xrange1to45',\n",
       " 'bgSCF8_mu1.0e+02_alpha1.0e-09_thres-15_c17_zrange-100to100_yrange70to115_xrange130to175',\n",
       " 'bgSCF8_mu1.0e+02_alpha1.0e-09_thres-15_c23_zrange-100to100_yrange105to140_xrange130to175',\n",
       " 'bgSCF8_mu1.0e+02_alpha1.0e-09_thres-15_c03_zrange-100to100_yrange1to45_xrange70to110',\n",
       " 'bgSCF8_mu1.0e+02_alpha1.0e-09_thres-17_c01_zrange-100to100_yrange1to45_xrange1to45',\n",
       " 'bgSCF8_mu1.0e+02_alpha1.0e-09_thres-17_c20_zrange-100to100_yrange105to140_xrange35to80',\n",
       " 'bgSCF8_mu1.0e+02_alpha1.0e-09_thres-15_c19_zrange-100to100_yrange105to140_xrange1to45',\n",
       " 'bgSCF8_mu1.0e+02_alpha1.0e-09_thres-17_c02_zrange-100to100_yrange1to45_xrange35to80']"
      ]
     },
     "execution_count": 4,
     "metadata": {},
     "output_type": "execute_result"
    }
   ],
   "source": [
    "# 24 pris tiles for each full image\n",
    "next(os.walk(p1+'/'+p_ims[0]))[1]"
   ]
  },
  {
   "cell_type": "markdown",
   "metadata": {},
   "source": [
    "Every dataset should have a pandas dataframe, to store the following information:\n",
    "\n",
    "For each Tile and each PRIS iteration number, get the file names for \n",
    "- (a) the linbreg object with the last iteration number, \n",
    "- (b) the sensing matrix, and \n",
    "- (c) the pris object \n",
    "\n"
   ]
  },
  {
   "cell_type": "markdown",
   "metadata": {},
   "source": [
    "### Handle for 1 full image"
   ]
  },
  {
   "cell_type": "code",
   "execution_count": 6,
   "metadata": {},
   "outputs": [],
   "source": [
    "# handle for 1 full image:\n",
    "path=p1+'/'+p_ims[0]\n",
    "\n",
    "# get the list of folders for different condition\n",
    "thres17=list()\n",
    "thres15=list()\n",
    "for count in ['c'+str(x+1).zfill(2) for x in np.arange(24,dtype='int')]:\n",
    "    for file in next(os.walk(path))[1]:\n",
    "        if count in file and 'thres-17' in file:\n",
    "            thres17.append(path+'/'+file)\n",
    "        elif count in file and 'thres-15' in file:\n",
    "            thres15.append(path+'/'+file)"
   ]
  },
  {
   "cell_type": "code",
   "execution_count": 125,
   "metadata": {},
   "outputs": [
    {
     "data": {
      "text/plain": [
       "nan"
      ]
     },
     "execution_count": 125,
     "metadata": {},
     "output_type": "execute_result"
    }
   ],
   "source": [
    "# define row values\n",
    "\n"
   ]
  },
  {
   "cell_type": "code",
   "execution_count": 264,
   "metadata": {},
   "outputs": [
    {
     "data": {
      "text/html": [
       "<div>\n",
       "<style scoped>\n",
       "    .dataframe tbody tr th:only-of-type {\n",
       "        vertical-align: middle;\n",
       "    }\n",
       "\n",
       "    .dataframe tbody tr th {\n",
       "        vertical-align: top;\n",
       "    }\n",
       "\n",
       "    .dataframe thead th {\n",
       "        text-align: right;\n",
       "    }\n",
       "</style>\n",
       "<table border=\"1\" class=\"dataframe\">\n",
       "  <thead>\n",
       "    <tr style=\"text-align: right;\">\n",
       "      <th></th>\n",
       "      <th>0</th>\n",
       "    </tr>\n",
       "  </thead>\n",
       "  <tbody>\n",
       "    <tr>\n",
       "      <th>pris0</th>\n",
       "      <td>{'linbreg': '/p/lscratchh/yi10/PRIS/PyPRIS_V1F...</td>\n",
       "    </tr>\n",
       "    <tr>\n",
       "      <th>pris1</th>\n",
       "      <td>{'linbreg': '/p/lscratchh/yi10/PRIS/PyPRIS_V1F...</td>\n",
       "    </tr>\n",
       "    <tr>\n",
       "      <th>pris2</th>\n",
       "      <td>{'linbreg': '/p/lscratchh/yi10/PRIS/PyPRIS_V1F...</td>\n",
       "    </tr>\n",
       "    <tr>\n",
       "      <th>pris3</th>\n",
       "      <td>{'linbreg': '/p/lscratchh/yi10/PRIS/PyPRIS_V1F...</td>\n",
       "    </tr>\n",
       "    <tr>\n",
       "      <th>pris4</th>\n",
       "      <td>{'linbreg': '/p/lscratchh/yi10/PRIS/PyPRIS_V1F...</td>\n",
       "    </tr>\n",
       "    <tr>\n",
       "      <th>pris5</th>\n",
       "      <td>{'linbreg': '/p/lscratchh/yi10/PRIS/PyPRIS_V1F...</td>\n",
       "    </tr>\n",
       "    <tr>\n",
       "      <th>pris6</th>\n",
       "      <td>{'linbreg': '/p/lscratchh/yi10/PRIS/PyPRIS_V1F...</td>\n",
       "    </tr>\n",
       "  </tbody>\n",
       "</table>\n",
       "</div>"
      ],
      "text/plain": [
       "                                                       0\n",
       "pris0  {'linbreg': '/p/lscratchh/yi10/PRIS/PyPRIS_V1F...\n",
       "pris1  {'linbreg': '/p/lscratchh/yi10/PRIS/PyPRIS_V1F...\n",
       "pris2  {'linbreg': '/p/lscratchh/yi10/PRIS/PyPRIS_V1F...\n",
       "pris3  {'linbreg': '/p/lscratchh/yi10/PRIS/PyPRIS_V1F...\n",
       "pris4  {'linbreg': '/p/lscratchh/yi10/PRIS/PyPRIS_V1F...\n",
       "pris5  {'linbreg': '/p/lscratchh/yi10/PRIS/PyPRIS_V1F...\n",
       "pris6  {'linbreg': '/p/lscratchh/yi10/PRIS/PyPRIS_V1F..."
      ]
     },
     "execution_count": 264,
     "metadata": {},
     "output_type": "execute_result"
    }
   ],
   "source": [
    "dd=thres15[0]+'/saved_objects'\n",
    "objs=next(os.walk(dd))[2]\n",
    "# first, find out how many pris iterations are there based on pris objects.\n",
    "prisn=-1\n",
    "for f in objs:\n",
    "    i=f.split('pris')[-1].split('.')[0]\n",
    "    if len(i.split('_')) == 1:\n",
    "        try:\n",
    "            prisn=np.max([prisn,int(i)])\n",
    "        except:\n",
    "            pass\n",
    "\n",
    "d=pd.DataFrame(np.nan,index=['pris'+str(x) for x in np.arange(prisn+1)],columns=[0])\n",
    "d[0]['pris0']='a' \n",
    "plist=[str(x) for x in np.arange(7)]\n",
    "#plist.append('0')\n",
    "for pris_N in plist:\n",
    "    # find the linbreg for current thres and current pris_N\n",
    "    linbreg_n=0\n",
    "    for f in objs:\n",
    "        if 'pris'+str(pris_N) in f:\n",
    "            try:\n",
    "                lbn_str=f.split('.')[-2].split('_')[-1] # linbreg iteration number string.\n",
    "                try:\n",
    "                    linbreg_n=np.max([int(lbn_str),linbreg_n])\n",
    "                except:\n",
    "                    pass\n",
    "            except:\n",
    "                pass\n",
    "\n",
    "    for f in objs:\n",
    "        # find the linbreg for current thres and current pris_N\n",
    "        if 'pris'+str(pris_N)+'_'+str(linbreg_n)+'.file' in f:\n",
    "            linbreg=count_fp+'/saved_objects/'+f\n",
    "\n",
    "        # find the sensing_mx for current thres and current pris_N\n",
    "        if 'pris'+str(pris_N)+'_SensingMx.file' in f:\n",
    "            sensingmx=count_fp+'/saved_objects/'+f\n",
    "\n",
    "        # find the pris obj for current thres and current pris_N\n",
    "        if '_pris'+str(pris_N)+'.file' in f:\n",
    "            prisobj=count_fp+'/saved_objects/'+f\n",
    "\n",
    "    # construct the dict:\n",
    "    e={'linbreg':linbreg, \n",
    "        'sensing matrix':sensingmx, \n",
    "        'pris': prisobj}\n",
    "       \n",
    "    d[0]['pris'+str(pris_N)]=e\n",
    "    \n",
    "#d[0]['pris'+str(pris_N)]=e\n",
    "d"
   ]
  },
  {
   "cell_type": "code",
   "execution_count": 261,
   "metadata": {},
   "outputs": [
    {
     "name": "stdout",
     "output_type": "stream",
     "text": [
      "6\n"
     ]
    }
   ],
   "source": [
    "print(pris_N)"
   ]
  },
  {
   "cell_type": "code",
   "execution_count": 290,
   "metadata": {},
   "outputs": [],
   "source": [
    "def sort_saved_objects(path, key):\n",
    "    objs=next(os.walk(path))[2]\n",
    "    # first, find out how many pris iterations are there based on pris objects.\n",
    "    prisn=-1\n",
    "    for f in objs:\n",
    "        i=f.split('pris')[-1].split('.')[0]\n",
    "        if len(i.split('_')) == 1:\n",
    "            try:\n",
    "                prisn=np.max([prisn,int(i)])\n",
    "            except:\n",
    "                pass\n",
    "            \n",
    "    d=pd.DataFrame([x for x in np.arange(prisn+1)],index=['pris'+str(x) for x in np.arange(prisn+1)],columns=[key])\n",
    "    d[key]['pris0']='a' # dont know why, have to initiate this, otherwise the first element would be nan.\n",
    "    plist=[str(x) for x in np.arange(7)]\n",
    "    for pris_N in plist:\n",
    "        # find the linbreg for current thres and current pris_N\n",
    "        linbreg_n=0\n",
    "        for f in objs:\n",
    "            if 'pris'+str(pris_N) in f:\n",
    "                try:\n",
    "                    lbn_str=f.split('.')[-2].split('_')[-1] # linbreg iteration number string.\n",
    "                    try:\n",
    "                        linbreg_n=np.max([int(lbn_str),linbreg_n])\n",
    "                    except:\n",
    "                        pass\n",
    "                except:\n",
    "                    pass\n",
    "\n",
    "        for f in objs:\n",
    "            # find the linbreg for current thres and current pris_N\n",
    "            if 'pris'+str(pris_N)+'_'+str(linbreg_n)+'.file' in f:\n",
    "                linbreg=count_fp+'/saved_objects/'+f\n",
    "\n",
    "            # find the sensing_mx for current thres and current pris_N\n",
    "            if 'pris'+str(pris_N)+'_SensingMx.file' in f:\n",
    "                sensingmx=count_fp+'/saved_objects/'+f\n",
    "\n",
    "            # find the pris obj for current thres and current pris_N\n",
    "            if '_pris'+str(pris_N)+'.file' in f:\n",
    "                prisobj=count_fp+'/saved_objects/'+f\n",
    "\n",
    "        # construct the dict:\n",
    "        e={'linbreg':linbreg, \n",
    "            'sensing matrix':sensingmx, \n",
    "            'pris': prisobj}\n",
    "        #print(e)\n",
    "        d[key]['pris'+str(pris_N)]=e\n",
    "        \n",
    "    return d"
   ]
  },
  {
   "cell_type": "code",
   "execution_count": 292,
   "metadata": {},
   "outputs": [
    {
     "data": {
      "text/html": [
       "<div>\n",
       "<style scoped>\n",
       "    .dataframe tbody tr th:only-of-type {\n",
       "        vertical-align: middle;\n",
       "    }\n",
       "\n",
       "    .dataframe tbody tr th {\n",
       "        vertical-align: top;\n",
       "    }\n",
       "\n",
       "    .dataframe thead th {\n",
       "        text-align: right;\n",
       "    }\n",
       "</style>\n",
       "<table border=\"1\" class=\"dataframe\">\n",
       "  <thead>\n",
       "    <tr style=\"text-align: right;\">\n",
       "      <th></th>\n",
       "      <th>thres15</th>\n",
       "      <th>a</th>\n",
       "    </tr>\n",
       "  </thead>\n",
       "  <tbody>\n",
       "    <tr>\n",
       "      <th>pris0</th>\n",
       "      <td>{'linbreg': '/p/lscratchh/yi10/PRIS/PyPRIS_V1F...</td>\n",
       "      <td>{'linbreg': '/p/lscratchh/yi10/PRIS/PyPRIS_V1F...</td>\n",
       "    </tr>\n",
       "    <tr>\n",
       "      <th>pris1</th>\n",
       "      <td>{'linbreg': '/p/lscratchh/yi10/PRIS/PyPRIS_V1F...</td>\n",
       "      <td>{'linbreg': '/p/lscratchh/yi10/PRIS/PyPRIS_V1F...</td>\n",
       "    </tr>\n",
       "    <tr>\n",
       "      <th>pris2</th>\n",
       "      <td>{'linbreg': '/p/lscratchh/yi10/PRIS/PyPRIS_V1F...</td>\n",
       "      <td>{'linbreg': '/p/lscratchh/yi10/PRIS/PyPRIS_V1F...</td>\n",
       "    </tr>\n",
       "    <tr>\n",
       "      <th>pris3</th>\n",
       "      <td>{'linbreg': '/p/lscratchh/yi10/PRIS/PyPRIS_V1F...</td>\n",
       "      <td>{'linbreg': '/p/lscratchh/yi10/PRIS/PyPRIS_V1F...</td>\n",
       "    </tr>\n",
       "    <tr>\n",
       "      <th>pris4</th>\n",
       "      <td>{'linbreg': '/p/lscratchh/yi10/PRIS/PyPRIS_V1F...</td>\n",
       "      <td>{'linbreg': '/p/lscratchh/yi10/PRIS/PyPRIS_V1F...</td>\n",
       "    </tr>\n",
       "    <tr>\n",
       "      <th>pris5</th>\n",
       "      <td>{'linbreg': '/p/lscratchh/yi10/PRIS/PyPRIS_V1F...</td>\n",
       "      <td>{'linbreg': '/p/lscratchh/yi10/PRIS/PyPRIS_V1F...</td>\n",
       "    </tr>\n",
       "    <tr>\n",
       "      <th>pris6</th>\n",
       "      <td>{'linbreg': '/p/lscratchh/yi10/PRIS/PyPRIS_V1F...</td>\n",
       "      <td>{'linbreg': '/p/lscratchh/yi10/PRIS/PyPRIS_V1F...</td>\n",
       "    </tr>\n",
       "  </tbody>\n",
       "</table>\n",
       "</div>"
      ],
      "text/plain": [
       "                                                 thres15  \\\n",
       "pris0  {'linbreg': '/p/lscratchh/yi10/PRIS/PyPRIS_V1F...   \n",
       "pris1  {'linbreg': '/p/lscratchh/yi10/PRIS/PyPRIS_V1F...   \n",
       "pris2  {'linbreg': '/p/lscratchh/yi10/PRIS/PyPRIS_V1F...   \n",
       "pris3  {'linbreg': '/p/lscratchh/yi10/PRIS/PyPRIS_V1F...   \n",
       "pris4  {'linbreg': '/p/lscratchh/yi10/PRIS/PyPRIS_V1F...   \n",
       "pris5  {'linbreg': '/p/lscratchh/yi10/PRIS/PyPRIS_V1F...   \n",
       "pris6  {'linbreg': '/p/lscratchh/yi10/PRIS/PyPRIS_V1F...   \n",
       "\n",
       "                                                       a  \n",
       "pris0  {'linbreg': '/p/lscratchh/yi10/PRIS/PyPRIS_V1F...  \n",
       "pris1  {'linbreg': '/p/lscratchh/yi10/PRIS/PyPRIS_V1F...  \n",
       "pris2  {'linbreg': '/p/lscratchh/yi10/PRIS/PyPRIS_V1F...  \n",
       "pris3  {'linbreg': '/p/lscratchh/yi10/PRIS/PyPRIS_V1F...  \n",
       "pris4  {'linbreg': '/p/lscratchh/yi10/PRIS/PyPRIS_V1F...  \n",
       "pris5  {'linbreg': '/p/lscratchh/yi10/PRIS/PyPRIS_V1F...  \n",
       "pris6  {'linbreg': '/p/lscratchh/yi10/PRIS/PyPRIS_V1F...  "
      ]
     },
     "execution_count": 292,
     "metadata": {},
     "output_type": "execute_result"
    }
   ],
   "source": [
    "dd1=thres15[0]+'/saved_objects'\n",
    "d1=sort_saved_objects(path=dd,key='thres15')\n",
    "dd2=thres15[1]+'/saved_objects'\n",
    "d2=sort_saved_objects(path=dd,key='a')\n",
    "#d1=d1.rename(columns={0:'thres15'})\n",
    "#d2=d2.rename(columns={0:'thres17'})\n",
    "d=pd.concat([d1,d2],axis=1)\n",
    "d"
   ]
  },
  {
   "cell_type": "code",
   "execution_count": 237,
   "metadata": {},
   "outputs": [
    {
     "data": {
      "text/plain": [
       "nan"
      ]
     },
     "execution_count": 237,
     "metadata": {},
     "output_type": "execute_result"
    }
   ],
   "source": [
    "d[0]['pris0']"
   ]
  },
  {
   "cell_type": "code",
   "execution_count": 129,
   "metadata": {},
   "outputs": [
    {
     "name": "stdout",
     "output_type": "stream",
     "text": [
      "a\n",
      "6\n"
     ]
    }
   ],
   "source": [
    "#next(os.walk(thres15[0]+'/saved_objects'))[2]\n",
    "objs=next(os.walk(dd))[2]\n",
    "prisn=0\n",
    "for f in objs:\n",
    "    i=f.split('pris')[-1].split('.')[0]\n",
    "    if len(i.split('_')) == 1:\n",
    "        try:\n",
    "            prisn=np.max([prisn,int(i)])\n",
    "        except:\n",
    "            pass\n",
    "print('a')\n",
    "print(prisn)"
   ]
  },
  {
   "cell_type": "code",
   "execution_count": 128,
   "metadata": {},
   "outputs": [
    {
     "data": {
      "text/plain": [
       "'saved_objects_3projections_prisAll.gif'"
      ]
     },
     "execution_count": 128,
     "metadata": {},
     "output_type": "execute_result"
    }
   ],
   "source": [
    "f"
   ]
  },
  {
   "cell_type": "code",
   "execution_count": 69,
   "metadata": {},
   "outputs": [],
   "source": [
    "# start a dataframe to store data for this full image recovery files.\n",
    "data = pd.DataFrame(columns=['thres15','thres17'], \n",
    "                   index = ['pris'+str(x) for x in np.arange(7)])\n",
    "\n",
    "for thresv in [15, 17]:\n",
    "    exec('thresN=thres'+str(thresv))\n",
    "    for count_fp in thresN: # loop over count_fp: the index of tiles.\n",
    "        # get all the .file filenames for current thres, and sort the file names into dataframe\n",
    "        objs=next(os.walk(count_fp+'/saved_objects'))[2]\n",
    "        for pris_N in [str(x) for x in np.arange(7)]:\n",
    "            # find the linbreg for current thres and current pris_N\n",
    "            linbreg_n=0\n",
    "            for f in objs:\n",
    "                if 'pris'+str(pris_N) in f:\n",
    "                    try:\n",
    "                        lbn_str=f.split('.')[-2].split('_')[-1] # linbreg iteration number string.\n",
    "                        try:\n",
    "                            linbreg_n=np.max([int(lbn_str),linbreg_n])\n",
    "                        except:\n",
    "                            pass\n",
    "                    except:\n",
    "                        pass\n",
    "\n",
    "            for f in objs:\n",
    "                # find the linbreg for current thres and current pris_N\n",
    "                if 'pris'+str(pris_N)+'_'+str(linbreg_n)+'.file' in f:\n",
    "                    linbreg=count_fp+'/saved_objects/'+f\n",
    "            \n",
    "                # find the sensing_mx for current thres and current pris_N\n",
    "                if 'pris'+str(pris_N)+'_SensingMx.file' in f:\n",
    "                    sensingmx=count_fp+'/saved_objects/'+f\n",
    "                    \n",
    "                # find the pris obj for current thres and current pris_N\n",
    "                if '_pris'+str(pris_N)+'.file' in f:\n",
    "                    prisobj=count_fp+'/saved_objects/'+f\n",
    "                    \n",
    "            # construct the dict:\n",
    "            data['thres'+str(thresv)]['pris'+str(pris_N)]={'linbreg':linbreg, \n",
    "                                                           'sensing matrix':sensingmx, \n",
    "                                                           'pris': prisobj}"
   ]
  },
  {
   "cell_type": "code",
   "execution_count": 358,
   "metadata": {},
   "outputs": [],
   "source": [
    "# start a dataframe to store data for this full image recovery files.\n",
    "data = pd.DataFrame(columns=['thres15','thres17'], \n",
    "                   index = ['pris'+str(x) for x in np.arange(7)])\n",
    "for index,row in data.iterrows():\n",
    "    data['thres15'][index]=list()\n",
    "    data['thres17'][index]=list() "
   ]
  },
  {
   "cell_type": "code",
   "execution_count": 359,
   "metadata": {},
   "outputs": [],
   "source": [
    "for thresv in [15, 17]:\n",
    "    exec('thresN=thres'+str(thresv))\n",
    "    for count_fp in thresN: # loop over count_fp: the index of tiles.\n",
    "        # get all the .file filenames for current thres, and sort the file names into dataframe\n",
    "        objs=next(os.walk(count_fp+'/saved_objects'))[2]\n",
    "        k='thres'+str(thresv)\n",
    "        d=sort_saved_objects(path=count_fp+'/saved_objects', key=k)\n",
    "        for p in list(d.index):\n",
    "            data['thres'+str(thresv)][p].append(d['thres'+str(thresv)][p])"
   ]
  },
  {
   "cell_type": "code",
   "execution_count": 369,
   "metadata": {},
   "outputs": [
    {
     "name": "stdout",
     "output_type": "stream",
     "text": [
      "PyPRIS_bgSCF8_mu1.0e+02_alpha1.0e-09_thres-15_c01_zrange-100to100_yrange1to45_xrange1to45_pris0_1001.file\n",
      "PyPRIS_bgSCF8_mu1.0e+02_alpha1.0e-09_thres-15_c01_zrange-100to100_yrange1to45_xrange1to45_pris0_SensingMx.file\n",
      "PyPRIS_pris0.file\n"
     ]
    }
   ],
   "source": [
    "print(data['thres15']['pris0'][0]['linbreg'].split('/')[-1])\n",
    "print(data['thres15']['pris0'][0]['sensing matrix'].split('/')[-1])\n",
    "print(data['thres15']['pris0'][0]['pris'].split('/')[-1])\n",
    "\n"
   ]
  },
  {
   "cell_type": "code",
   "execution_count": 116,
   "metadata": {},
   "outputs": [
    {
     "name": "stdout",
     "output_type": "stream",
     "text": [
      "PyPRIS_bgSCF8_mu1.0e+02_alpha1.0e-09_thres-15_c01_zrange-100to100_yrange1to45_xrange1to45_pris2_1.file\n"
     ]
    }
   ],
   "source": [
    "# for each tile, each Z, and in all the saved objects, find the last linbreg iteration for all pris iterations\n",
    "print(next(os.walk(z15[0]+'/saved_objects'))[2][0])"
   ]
  },
  {
   "cell_type": "code",
   "execution_count": null,
   "metadata": {},
   "outputs": [],
   "source": [
    "\n",
    "data=pd.DataFrame\n",
    "\n",
    "\n",
    "# copy down x and y ranges from the pris ticket file.\n",
    "ax1_ranges = [[1,45], [35,80], [70,115], [105,140]]\n",
    "ax2_ranges = [[1,45], [35,80], [70,110], [105,140], [130, 175], [165,212]]\n",
    "\n",
    "# make list of keys for ranges in x and y.\n",
    "ax1_keys = ['xrange'+str(x[0])+'to'+str(x[1]) for x in ax1_ranges]\n",
    "ax2_keys = ['xrange'+str(x[0])+'to'+str(x[1]) for x in ax2_ranges]\n"
   ]
  },
  {
   "cell_type": "code",
   "execution_count": null,
   "metadata": {},
   "outputs": [],
   "source": [
    "next(os.walk(path))[1]\n",
    "tiles=next(os.walk(tile_set))"
   ]
  },
  {
   "cell_type": "markdown",
   "metadata": {},
   "source": [
    "get the recovered x and the location coordiantes form each tile, and \n",
    "- generate the recovered blur tile \n",
    "- concatenate the x with other x, to get the larger volume.\n",
    "- get the 3D recovery of the overall big volume\n"
   ]
  },
  {
   "cell_type": "code",
   "execution_count": 75,
   "metadata": {},
   "outputs": [
    {
     "data": {
      "text/plain": [
       "'/g/g92/yi10/PyPRIS/NW_astig_spetrum_analysis'"
      ]
     },
     "execution_count": 75,
     "metadata": {},
     "output_type": "execute_result"
    }
   ],
   "source": [
    "import subprocess\n",
    "k=subprocess.run('pwd',capture_output=True)\n",
    "k.stdout.decode('utf-8')[0:-1]"
   ]
  },
  {
   "cell_type": "code",
   "execution_count": 5,
   "metadata": {},
   "outputs": [],
   "source": [
    "files = []\n",
    "filenames = []\n",
    "filepaths = []\n",
    "# r=root, d=directories, f = files\n",
    "for r, d, f in os.walk(datapath):\n",
    "    for file in f:\n",
    "        if file.endswith('.file'):\n",
    "            files.append(os.path.join(r, file))\n",
    "            filenames.append(file[0:-5])\n",
    "            filepaths.append(r)"
   ]
  }
 ],
 "metadata": {
  "kernelspec": {
   "display_name": "PyPRIS_env",
   "language": "python",
   "name": "pypris_env"
  },
  "language_info": {
   "codemirror_mode": {
    "name": "ipython",
    "version": 3
   },
   "file_extension": ".py",
   "mimetype": "text/x-python",
   "name": "python",
   "nbconvert_exporter": "python",
   "pygments_lexer": "ipython3",
   "version": "3.7.3"
  }
 },
 "nbformat": 4,
 "nbformat_minor": 4
}
