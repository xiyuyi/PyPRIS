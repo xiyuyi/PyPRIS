{
 "cells": [
  {
   "cell_type": "code",
   "execution_count": 1,
   "metadata": {},
   "outputs": [
    {
     "name": "stdout",
     "output_type": "stream",
     "text": [
      "\n",
      "\n",
      "\n",
      "PyPRIS Continue!\n"
     ]
    }
   ],
   "source": [
    "from PyPRIS import *\n",
    "import os\n",
    "print(\"\")\n",
    "print(\"\")\n",
    "print(\"\")\n",
    "print(\"PyPRIS Continue!\")\n",
    "import warnings\n",
    "warnings.filterwarnings(\"ignore\")"
   ]
  },
  {
   "cell_type": "code",
   "execution_count": 2,
   "metadata": {},
   "outputs": [],
   "source": [
    "# load the original ticket\n",
    "ticket = get_ticket('./Go.pris_ticket')\n",
    "\n",
    "# prep the order according to the ticket\n",
    "psf = io.imread(ticket.psf_path)\n",
    "blur1 = io.imread(ticket.plane1_path)\n",
    "blur2 = io.imread(ticket.plane2_path)\n",
    "blur = np.concatenate([blur1, blur2],axis=0)\n",
    "\n",
    "# prepare a observer for pypris. [from one candidate, to one observation]\n",
    "# summon an observer from the ObserveStation (ObserveStation class) (Cheers~)\n",
    "observer = ObserveStation()\n",
    "\"configure this observer with biplane observation specifics\"\n",
    "observer.observe_biplane_prep(psf, single_image_size = blur1.shape,\n",
    "                           deltaz_plane1 = ticket.plane1_dz,\n",
    "                           deltaz_plane2 = ticket.plane2_dz,\n",
    "                           psfz0 = ticket.psfz0,\n",
    "                           observer_debugger = ticket.observer_debugger,\n",
    "                           observer_edge_padding = ticket.observer_edge_padding)"
   ]
  },
  {
   "cell_type": "code",
   "execution_count": 3,
   "metadata": {},
   "outputs": [
    {
     "name": "stdout",
     "output_type": "stream",
     "text": [
      "Loading LinBreg object from: \n",
      "./saved_objects\n",
      "PyPRIS_bgSCF1.5_mu1.0e+05_alpha1.0e-11_pris2_SensingMx\n",
      "PyPRIS_bgSCF1.5_mu1.0e+05_alpha1.0e-11_pris2_600000\n",
      "---------------- PRIS refinement #2 ------------------\n"
     ]
    }
   ],
   "source": [
    "# Get the latest saved linbreg filename\n",
    "\n",
    "\n",
    "# put in the file folder where you saved all the linbreg objects.\n",
    "# path = 'C:\\\\Users\\\\wxjpp\\\\Desktop\\\\PyPRIS-master\\\\saved_objects'\n",
    "path = './saved_objects'\n",
    "\n",
    "mxnames = []\n",
    "objIter = []\n",
    "# r=root, d=directories, f = files\n",
    "for r, d, f in os.walk(path):\n",
    "    for file in f:\n",
    "        if file.endswith('SensingMx.file'):\n",
    "            mxnames.append(file[0:-5])\n",
    "\n",
    "\n",
    "mxName = mxnames[-1]\n",
    "\n",
    "for r, d, f in os.walk(path):\n",
    "    for file in f:\n",
    "        if file.startswith(mxName[0:-9]):\n",
    "            if not file.endswith('SensingMx.file'):\n",
    "                objIter.append(int(file[len(mxName[0:-9]):-5]))\n",
    "\n",
    "\n",
    "objName = mxName[0:-9] + str(max(objIter))\n",
    "\n",
    "print(\"Loading LinBreg object from: \")\n",
    "print(path)\n",
    "print(mxName)            \n",
    "print(objName)\n",
    "\n",
    "# Load the previous saved LinBreg object\n",
    "with open('{}/{}.file'.format(path, objName), \"rb\") as f:\n",
    "    linbreg_ori = pickle.load(f) #the loaded object is a LinBreg object\n",
    "\n",
    "\n",
    "linbreg = copy.deepcopy(linbreg_ori)\n",
    "\n",
    "with open('{}/{}.file'.format(path, mxName), \"rb\") as s:\n",
    "    linbreg.A = joblib.load(s)\n",
    "\n",
    "\n",
    "# Create a PyPRIS object and initialize according to the loaded LinBreg object\n",
    "pypris = PyPRIS()\n",
    "pypris.current_candidates = linbreg.candidate_coords\n",
    "pypris.current_candidates_intervals = linbreg.candidate_intervals\n",
    "pypris.current_A = linbreg.A\n",
    "pypris.observation = blur.ravel()\n",
    "\n",
    "# set a check mark for pypris:\n",
    "pypris.set_check_mark()\n",
    "\n",
    "\n",
    "# put the configured observer to the pypris to perform the tasks of 'observe_biplane'\n",
    "# when a pypris object observes, it is through the observer and it is\n",
    "# done with the observer's observe_biplane skill (skill = method).\n",
    "pypris.observe = observer.observe_biplane\n",
    "\n",
    "\n",
    "linbreg_ori.A = 0\n",
    "Iter = int(linbreg.PyPRIS_iter[4:])\n",
    "print(\"---------------- PRIS refinement #\" + str(Iter) + \" ------------------\")\n",
    "linbreg.go()"
   ]
  },
  {
   "cell_type": "code",
   "execution_count": 4,
   "metadata": {},
   "outputs": [],
   "source": [
    "with open('PyPRIS_mask.file', \"rb\") as s:\n",
    "    mask = joblib.load(s)\n",
    "    \n",
    "#linbreg.apply_mask(mask)"
   ]
  },
  {
   "cell_type": "code",
   "execution_count": 5,
   "metadata": {},
   "outputs": [
    {
     "data": {
      "text/plain": [
       "<matplotlib.image.AxesImage at 0x1ff464ccf60>"
      ]
     },
     "execution_count": 5,
     "metadata": {},
     "output_type": "execute_result"
    },
    {
     "data": {
      "image/png": "[encoded data removed]",
      "text/plain": [
       "<Figure size 432x288 with 1 Axes>"
      ]
     },
     "metadata": {
      "needs_background": "light"
     },
     "output_type": "display_data"
    }
   ],
   "source": [
    "plt.imshow(np.mean(linbreg.candidate_vis(), axis = 0))"
   ]
  },
  {
   "cell_type": "code",
   "execution_count": 6,
   "metadata": {},
   "outputs": [
    {
     "name": "stdout",
     "output_type": "stream",
     "text": [
      "---------------- PRIS refinement #3 ------------------\n",
      "stopping threshold is -25\n",
      "alpha is 1e-11\n",
      "Successfully created Scratch directory . \n",
      "Successfully wrote sensing matrix to directory ./saved_objects \n",
      "Successfully created Object-saving directory ./saved_objects \n"
     ]
    },
    {
     "ename": "ValueError",
     "evalue": "zero-size array to reduction operation minimum which has no identity",
     "output_type": "error",
     "traceback": [
      "\u001b[1;31m---------------------------------------------------------------------------\u001b[0m",
      "\u001b[1;31mValueError\u001b[0m                                Traceback (most recent call last)",
      "\u001b[1;32m<ipython-input-6-1146cd308083>\u001b[0m in \u001b[0;36m<module>\u001b[1;34m()\u001b[0m\n\u001b[0;32m      6\u001b[0m     \u001b[0mpypris\u001b[0m\u001b[1;33m.\u001b[0m\u001b[0mcurrent_A\u001b[0m \u001b[1;33m=\u001b[0m \u001b[0mpypris\u001b[0m\u001b[1;33m.\u001b[0m\u001b[0mcurrent_A\u001b[0m \u001b[1;33m/\u001b[0m \u001b[0mticket\u001b[0m\u001b[1;33m.\u001b[0m\u001b[0mpsf_norm_factor\u001b[0m\u001b[1;33m\u001b[0m\u001b[0m\n\u001b[0;32m      7\u001b[0m     \u001b[0mc\u001b[0m \u001b[1;33m=\u001b[0m \u001b[0mnp\u001b[0m\u001b[1;33m.\u001b[0m\u001b[0mdot\u001b[0m\u001b[1;33m(\u001b[0m\u001b[0mpypris\u001b[0m\u001b[1;33m.\u001b[0m\u001b[0mobservation\u001b[0m\u001b[1;33m.\u001b[0m\u001b[0mravel\u001b[0m\u001b[1;33m(\u001b[0m\u001b[1;33m)\u001b[0m\u001b[1;33m,\u001b[0m \u001b[0mpypris\u001b[0m\u001b[1;33m.\u001b[0m\u001b[0mcurrent_A\u001b[0m\u001b[1;33m)\u001b[0m\u001b[1;33m\u001b[0m\u001b[0m\n\u001b[1;32m----> 8\u001b[1;33m     \u001b[0mc1\u001b[0m \u001b[1;33m=\u001b[0m \u001b[0mnp\u001b[0m\u001b[1;33m.\u001b[0m\u001b[0mmin\u001b[0m\u001b[1;33m(\u001b[0m\u001b[0mc\u001b[0m\u001b[1;33m[\u001b[0m\u001b[1;36m0\u001b[0m\u001b[1;33m:\u001b[0m\u001b[1;33m-\u001b[0m\u001b[1;36m2\u001b[0m\u001b[1;33m]\u001b[0m\u001b[1;33m)\u001b[0m\u001b[1;33m\u001b[0m\u001b[0m\n\u001b[0m\u001b[0;32m      9\u001b[0m     \u001b[0mc2\u001b[0m \u001b[1;33m=\u001b[0m \u001b[0mnp\u001b[0m\u001b[1;33m.\u001b[0m\u001b[0mmax\u001b[0m\u001b[1;33m(\u001b[0m\u001b[0mc\u001b[0m\u001b[1;33m[\u001b[0m\u001b[1;36m0\u001b[0m\u001b[1;33m:\u001b[0m\u001b[1;33m-\u001b[0m\u001b[1;36m2\u001b[0m\u001b[1;33m]\u001b[0m\u001b[1;33m)\u001b[0m\u001b[1;33m\u001b[0m\u001b[0m\n\u001b[0;32m     10\u001b[0m     \u001b[0mbgv\u001b[0m \u001b[1;33m=\u001b[0m \u001b[0mc1\u001b[0m \u001b[1;33m+\u001b[0m \u001b[1;33m(\u001b[0m\u001b[0mc2\u001b[0m \u001b[1;33m-\u001b[0m \u001b[0mc1\u001b[0m\u001b[1;33m)\u001b[0m \u001b[1;33m*\u001b[0m \u001b[0mticket\u001b[0m\u001b[1;33m.\u001b[0m\u001b[0mbg_scaling_coef\u001b[0m\u001b[1;33m\u001b[0m\u001b[0m\n",
      "\u001b[1;32m~\\Anaconda3\\lib\\site-packages\\numpy\\core\\fromnumeric.py\u001b[0m in \u001b[0;36mamin\u001b[1;34m(a, axis, out, keepdims, initial)\u001b[0m\n\u001b[0;32m   2440\u001b[0m     \"\"\"\n\u001b[0;32m   2441\u001b[0m     return _wrapreduction(a, np.minimum, 'min', axis, None, out, keepdims=keepdims,\n\u001b[1;32m-> 2442\u001b[1;33m                           initial=initial)\n\u001b[0m\u001b[0;32m   2443\u001b[0m \u001b[1;33m\u001b[0m\u001b[0m\n\u001b[0;32m   2444\u001b[0m \u001b[1;33m\u001b[0m\u001b[0m\n",
      "\u001b[1;32m~\\Anaconda3\\lib\\site-packages\\numpy\\core\\fromnumeric.py\u001b[0m in \u001b[0;36m_wrapreduction\u001b[1;34m(obj, ufunc, method, axis, dtype, out, **kwargs)\u001b[0m\n\u001b[0;32m     81\u001b[0m                 \u001b[1;32mreturn\u001b[0m \u001b[0mreduction\u001b[0m\u001b[1;33m(\u001b[0m\u001b[0maxis\u001b[0m\u001b[1;33m=\u001b[0m\u001b[0maxis\u001b[0m\u001b[1;33m,\u001b[0m \u001b[0mout\u001b[0m\u001b[1;33m=\u001b[0m\u001b[0mout\u001b[0m\u001b[1;33m,\u001b[0m \u001b[1;33m**\u001b[0m\u001b[0mpasskwargs\u001b[0m\u001b[1;33m)\u001b[0m\u001b[1;33m\u001b[0m\u001b[0m\n\u001b[0;32m     82\u001b[0m \u001b[1;33m\u001b[0m\u001b[0m\n\u001b[1;32m---> 83\u001b[1;33m     \u001b[1;32mreturn\u001b[0m \u001b[0mufunc\u001b[0m\u001b[1;33m.\u001b[0m\u001b[0mreduce\u001b[0m\u001b[1;33m(\u001b[0m\u001b[0mobj\u001b[0m\u001b[1;33m,\u001b[0m \u001b[0maxis\u001b[0m\u001b[1;33m,\u001b[0m \u001b[0mdtype\u001b[0m\u001b[1;33m,\u001b[0m \u001b[0mout\u001b[0m\u001b[1;33m,\u001b[0m \u001b[1;33m**\u001b[0m\u001b[0mpasskwargs\u001b[0m\u001b[1;33m)\u001b[0m\u001b[1;33m\u001b[0m\u001b[0m\n\u001b[0m\u001b[0;32m     84\u001b[0m \u001b[1;33m\u001b[0m\u001b[0m\n\u001b[0;32m     85\u001b[0m \u001b[1;33m\u001b[0m\u001b[0m\n",
      "\u001b[1;31mValueError\u001b[0m: zero-size array to reduction operation minimum which has no identity"
     ]
    }
   ],
   "source": [
    "for PRIS_iter in np.arange(Iter+1,ticket.PRIS_iter_end):    \n",
    "    pypris.prep_for_new_refinement()\n",
    "    pypris.refine_candidates(linbreg)\n",
    "    pypris.generate_sensing_mx()\n",
    "    # prepare the inner sparse recovery\n",
    "    pypris.current_A = pypris.current_A / ticket.psf_norm_factor\n",
    "    c = np.dot(pypris.observation.ravel(), pypris.current_A)\n",
    "    c1 = np.min(c[0:-2])\n",
    "    c2 = np.max(c[0:-2])\n",
    "    bgv = c1 + (c2 - c1) * ticket.bg_scaling_coef\n",
    "    pypris.current_A[:, -1] = bgv / np.sum(pypris.observation.ravel())  # the last column in A corresponds to the background component.   \n",
    "    linbreg = copy.deepcopy(linbreg_ori)\n",
    "    linbreg.candidate_coords = pypris.current_candidates\n",
    "    linbreg.candidate_intervals = pypris.current_candidates_intervals\n",
    "    linbreg.A = pypris.current_A\n",
    "    linbreg.b = pypris.observation.ravel()\n",
    "    linbreg.PyPRIS_iter = \"pris\"+ str(PRIS_iter)\n",
    "    linbreg.stopping_loghistpercdelres_thres -= PRIS_iter*2\n",
    "    print(\"---------------- PRIS refinement #\" + str(PRIS_iter) + \" ------------------\")\n",
    "    # recover\n",
    "    linbreg.get_ready()\n",
    "    linbreg.go()"
   ]
  },
  {
   "cell_type": "code",
   "execution_count": 7,
   "metadata": {},
   "outputs": [],
   "source": [
    "pypris.prep_for_new_refinement()\n",
    "pypris.refine_candidates(linbreg)\n",
    "pypris.generate_sensing_mx()"
   ]
  },
  {
   "cell_type": "code",
   "execution_count": 8,
   "metadata": {},
   "outputs": [],
   "source": [
    "pypris.current_A = pypris.current_A / ticket.psf_norm_factor"
   ]
  },
  {
   "cell_type": "code",
   "execution_count": 9,
   "metadata": {},
   "outputs": [],
   "source": [
    "c = np.dot(pypris.observation.ravel(), pypris.current_A)"
   ]
  },
  {
   "cell_type": "code",
   "execution_count": 11,
   "metadata": {},
   "outputs": [
    {
     "name": "stdout",
     "output_type": "stream",
     "text": [
      "---------------- PRIS refinement #2 ------------------\n"
     ]
    }
   ],
   "source": [
    "c1 = np.min(c[0:-2])\n",
    "c2 = np.max(c[0:-2])\n",
    "bgv = c1 + (c2 - c1) * ticket.bg_scaling_coef\n",
    "pypris.current_A[:, -1] = bgv / np.sum(pypris.observation.ravel())  # the last column in A corresponds to the background component.\n",
    "linbreg = copy.deepcopy(linbreg_ori)\n",
    "linbreg.candidate_coords = pypris.current_candidates\n",
    "linbreg.candidate_intervals = pypris.current_candidates_intervals\n",
    "linbreg.A = pypris.current_A\n",
    "linbreg.b = pypris.observation.ravel()\n",
    "linbreg.PyPRIS_iter = \"pris\"+ str(Iter)\n",
    "linbreg.stopping_loghistpercdelres_thres -= Iter*2\n",
    "print(\"---------------- PRIS refinement #\" + str(Iter) + \" ------------------\")"
   ]
  },
  {
   "cell_type": "code",
   "execution_count": 12,
   "metadata": {},
   "outputs": [
    {
     "name": "stdout",
     "output_type": "stream",
     "text": [
      "stopping threshold is -23\n",
      "alpha is 1e-11\n",
      "Successfully created Scratch directory . \n",
      "Successfully wrote sensing matrix to directory ./saved_objects \n",
      "Successfully created Object-saving directory ./saved_objects \n"
     ]
    }
   ],
   "source": [
    "# recover\n",
    "linbreg.get_ready()"
   ]
  },
  {
   "cell_type": "code",
   "execution_count": 13,
   "metadata": {},
   "outputs": [],
   "source": [
    "linbreg.go()"
   ]
  },
  {
   "cell_type": "code",
   "execution_count": 6,
   "metadata": {},
   "outputs": [
    {
     "data": {
      "text/plain": [
       "(array([    0,     1,     2, ..., 10079, 10080, 10081], dtype=int64),\n",
       " array([0, 0, 0, ..., 0, 0, 0], dtype=int64))"
      ]
     },
     "execution_count": 6,
     "metadata": {},
     "output_type": "execute_result"
    }
   ],
   "source": [
    "np.nonzero(pypris.current_A)"
   ]
  },
  {
   "cell_type": "code",
   "execution_count": 11,
   "metadata": {},
   "outputs": [],
   "source": [
    "def quick_and_dirty_mask_ref(linbreg, pypris, mask):\n",
    "    maskbreg = copy.deepcopy(linbreg)\n",
    "    maskbreg.x = maskbreg.candidate_vis_inv(mask)\n",
    "    maskpris = copy.deepcopy(pypris)\n",
    "    maskpris.prep_for_new_refinement()\n",
    "    maskpris.refine_candidates(maskbreg)\n",
    "    return maskbreg.candidate_vis()"
   ]
  },
  {
   "cell_type": "code",
   "execution_count": 5,
   "metadata": {},
   "outputs": [],
   "source": [
    "pypris.apply_mask(linbreg, mask)"
   ]
  },
  {
   "cell_type": "code",
   "execution_count": 19,
   "metadata": {},
   "outputs": [
    {
     "ename": "IndexError",
     "evalue": "index 54 is out of bounds for axis 1 with size 34",
     "output_type": "error",
     "traceback": [
      "\u001b[1;31m---------------------------------------------------------------------------\u001b[0m",
      "\u001b[1;31mIndexError\u001b[0m                                Traceback (most recent call last)",
      "\u001b[1;32m<ipython-input-19-72b29fa6b523>\u001b[0m in \u001b[0;36m<module>\u001b[1;34m()\u001b[0m\n\u001b[1;32m----> 1\u001b[1;33m \u001b[0mmask\u001b[0m \u001b[1;33m=\u001b[0m \u001b[0mquick_and_dirty_mask_ref\u001b[0m\u001b[1;33m(\u001b[0m\u001b[0mlinbreg\u001b[0m\u001b[1;33m,\u001b[0m\u001b[0mpypris\u001b[0m\u001b[1;33m,\u001b[0m\u001b[0mmask\u001b[0m\u001b[1;33m)\u001b[0m\u001b[1;33m\u001b[0m\u001b[0m\n\u001b[0m",
      "\u001b[1;32m<ipython-input-11-a646c014c1d3>\u001b[0m in \u001b[0;36mquick_and_dirty_mask_ref\u001b[1;34m(linbreg, pypris, mask)\u001b[0m\n\u001b[0;32m      1\u001b[0m \u001b[1;32mdef\u001b[0m \u001b[0mquick_and_dirty_mask_ref\u001b[0m\u001b[1;33m(\u001b[0m\u001b[0mlinbreg\u001b[0m\u001b[1;33m,\u001b[0m \u001b[0mpypris\u001b[0m\u001b[1;33m,\u001b[0m \u001b[0mmask\u001b[0m\u001b[1;33m)\u001b[0m\u001b[1;33m:\u001b[0m\u001b[1;33m\u001b[0m\u001b[0m\n\u001b[0;32m      2\u001b[0m     \u001b[0mmaskbreg\u001b[0m \u001b[1;33m=\u001b[0m \u001b[0mcopy\u001b[0m\u001b[1;33m.\u001b[0m\u001b[0mdeepcopy\u001b[0m\u001b[1;33m(\u001b[0m\u001b[0mlinbreg\u001b[0m\u001b[1;33m)\u001b[0m\u001b[1;33m\u001b[0m\u001b[0m\n\u001b[1;32m----> 3\u001b[1;33m     \u001b[0mmaskbreg\u001b[0m\u001b[1;33m.\u001b[0m\u001b[0mx\u001b[0m \u001b[1;33m=\u001b[0m \u001b[0mmaskbreg\u001b[0m\u001b[1;33m.\u001b[0m\u001b[0mcandidate_vis_inv\u001b[0m\u001b[1;33m(\u001b[0m\u001b[0mmask\u001b[0m\u001b[1;33m)\u001b[0m\u001b[1;33m\u001b[0m\u001b[0m\n\u001b[0m\u001b[0;32m      4\u001b[0m     \u001b[0mmaskpris\u001b[0m \u001b[1;33m=\u001b[0m \u001b[0mcopy\u001b[0m\u001b[1;33m.\u001b[0m\u001b[0mdeepcopy\u001b[0m\u001b[1;33m(\u001b[0m\u001b[0mpypris\u001b[0m\u001b[1;33m)\u001b[0m\u001b[1;33m\u001b[0m\u001b[0m\n\u001b[0;32m      5\u001b[0m     \u001b[0mmaskpris\u001b[0m\u001b[1;33m.\u001b[0m\u001b[0mprep_for_new_refinement\u001b[0m\u001b[1;33m(\u001b[0m\u001b[1;33m)\u001b[0m\u001b[1;33m\u001b[0m\u001b[0m\n",
      "\u001b[1;32m~\\Desktop\\PyPRIS-xingjia\\PyPRIS\\PRIS.py\u001b[0m in \u001b[0;36mcandidate_vis_inv\u001b[1;34m(self, vis)\u001b[0m\n\u001b[0;32m    391\u001b[0m         \u001b[1;32mfor\u001b[0m \u001b[0mcoords\u001b[0m\u001b[1;33m,\u001b[0m \u001b[0mintensity\u001b[0m \u001b[1;32min\u001b[0m \u001b[0mzip\u001b[0m\u001b[1;33m(\u001b[0m\u001b[0mself\u001b[0m\u001b[1;33m.\u001b[0m\u001b[0mcandidate_coords\u001b[0m\u001b[1;33m,\u001b[0m \u001b[0mself\u001b[0m\u001b[1;33m.\u001b[0m\u001b[0mx\u001b[0m\u001b[1;33m[\u001b[0m\u001b[1;36m0\u001b[0m\u001b[1;33m:\u001b[0m\u001b[0mlen\u001b[0m\u001b[1;33m(\u001b[0m\u001b[0mself\u001b[0m\u001b[1;33m.\u001b[0m\u001b[0mx\u001b[0m\u001b[1;33m)\u001b[0m \u001b[1;33m-\u001b[0m \u001b[1;36m1\u001b[0m\u001b[1;33m]\u001b[0m\u001b[1;33m)\u001b[0m\u001b[1;33m:\u001b[0m\u001b[1;33m\u001b[0m\u001b[0m\n\u001b[0;32m    392\u001b[0m             new_x.append(vis[coords[0] - minimals[0] - 1, int((coords[1] - minimals[1]) // intervals[1]), int(\n\u001b[1;32m--> 393\u001b[1;33m                 (coords[2] - minimals[2]) // intervals[2])] )\n\u001b[0m\u001b[0;32m    394\u001b[0m \u001b[1;33m\u001b[0m\u001b[0m\n\u001b[0;32m    395\u001b[0m         \u001b[0mnew_x\u001b[0m\u001b[1;33m.\u001b[0m\u001b[0mappend\u001b[0m\u001b[1;33m(\u001b[0m\u001b[0mself\u001b[0m\u001b[1;33m.\u001b[0m\u001b[0mx\u001b[0m\u001b[1;33m[\u001b[0m\u001b[1;33m-\u001b[0m\u001b[1;36m1\u001b[0m\u001b[1;33m]\u001b[0m\u001b[1;33m)\u001b[0m\u001b[1;33m\u001b[0m\u001b[0m\n",
      "\u001b[1;31mIndexError\u001b[0m: index 54 is out of bounds for axis 1 with size 34"
     ]
    }
   ],
   "source": [
    "mask = quick_and_dirty_mask_ref(linbreg,pypris,mask)"
   ]
  },
  {
   "cell_type": "code",
   "execution_count": 5,
   "metadata": {},
   "outputs": [],
   "source": [
    "maskbreg = copy.deepcopy(linbreg)"
   ]
  },
  {
   "cell_type": "code",
   "execution_count": 6,
   "metadata": {},
   "outputs": [],
   "source": [
    "maskbreg.x = maskbreg.candidate_vis_inv(mask)"
   ]
  },
  {
   "cell_type": "code",
   "execution_count": 8,
   "metadata": {},
   "outputs": [],
   "source": [
    "maskpris = copy.deepcopy(pypris)\n",
    "maskpris.prep_for_new_refinement()\n",
    "maskpris.refine_candidates(maskbreg)"
   ]
  },
  {
   "cell_type": "code",
   "execution_count": 10,
   "metadata": {},
   "outputs": [
    {
     "data": {
      "text/plain": [
       "(71, 34, 40)"
      ]
     },
     "execution_count": 10,
     "metadata": {},
     "output_type": "execute_result"
    }
   ],
   "source": [
    "maskbreg.candidate_vis().shape"
   ]
  },
  {
   "cell_type": "code",
   "execution_count": null,
   "metadata": {},
   "outputs": [],
   "source": []
  },
  {
   "cell_type": "code",
   "execution_count": 16,
   "metadata": {},
   "outputs": [
    {
     "data": {
      "text/plain": [
       "(71, 34, 40)"
      ]
     },
     "execution_count": 16,
     "metadata": {},
     "output_type": "execute_result"
    }
   ],
   "source": [
    "mask.shape"
   ]
  },
  {
   "cell_type": "code",
   "execution_count": 18,
   "metadata": {},
   "outputs": [],
   "source": [
    "pypris.prep_for_new_refinement()\n",
    "pypris.refine_candidates(linbreg)"
   ]
  },
  {
   "cell_type": "code",
   "execution_count": 17,
   "metadata": {},
   "outputs": [
    {
     "data": {
      "text/plain": [
       "(71, 34, 40)"
      ]
     },
     "execution_count": 17,
     "metadata": {},
     "output_type": "execute_result"
    }
   ],
   "source": [
    "linbreg.candidate_vis().shape"
   ]
  },
  {
   "cell_type": "code",
   "execution_count": 18,
   "metadata": {},
   "outputs": [
    {
     "data": {
      "text/plain": [
       "(71, 34, 40)"
      ]
     },
     "execution_count": 18,
     "metadata": {},
     "output_type": "execute_result"
    }
   ],
   "source": [
    "mask.shape"
   ]
  }
 ],
 "metadata": {
  "kernelspec": {
   "display_name": "Python 3",
   "language": "python",
   "name": "python3"
  },
  "language_info": {
   "codemirror_mode": {
    "name": "ipython",
    "version": 3
   },
   "file_extension": ".py",
   "mimetype": "text/x-python",
   "name": "python",
   "nbconvert_exporter": "python",
   "pygments_lexer": "ipython3",
   "version": "3.7.0"
  }
 },
 "nbformat": 4,
 "nbformat_minor": 2
}
