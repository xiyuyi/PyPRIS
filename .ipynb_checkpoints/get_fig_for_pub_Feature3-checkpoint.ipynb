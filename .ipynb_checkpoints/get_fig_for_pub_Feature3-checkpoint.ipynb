{
 "cells": [
  {
   "cell_type": "markdown",
   "metadata": {},
   "source": [
    "# stitch 4 field of views together."
   ]
  },
  {
   "cell_type": "code",
   "execution_count": 1,
   "metadata": {},
   "outputs": [],
   "source": [
    "# load modules\n",
    "import sys\n",
    "sys.path.append(\"../\")\n",
    "from PyPRIS import *\n",
    "import os"
   ]
  },
  {
   "cell_type": "code",
   "execution_count": 2,
   "metadata": {},
   "outputs": [],
   "source": [
    "# prepare datafile paths.\n",
    "\n",
    "\n",
    "datapath_key_minimum_seed=\"./Documents/Data_key_minimum_seed\"\n",
    "for prisN in np.arange(0,8):\n",
    "    exec(\"pris\"+str(prisN)+\"_names = list()\")\n",
    "    exec(\"pris\"+str(prisN)+\"_linbregs = list()\")\n",
    "    exec(\"pris\"+str(prisN)+\"_pyprises = list()\")\n",
    "\n",
    "# define the names of the linbreg objects for each pris iteration on fov1.\n",
    "pris0_names.append(\"PyPRIS_bgSCF2_mu1.0e+04_alpha1.0e-09_pris0_7001.file\")\n",
    "pris1_names.append(\"PyPRIS_bgSCF2_mu1.0e+04_alpha1.0e-09_pris1_34520.file\")\n",
    "pris2_names.append(\"PyPRIS_bgSCF2_mu1.0e+04_alpha1.0e-09_pris2_40000.file\")\n",
    "pris3_names.append(\"PyPRIS_bgSCF2_mu1.0e+04_alpha1.0e-09_pris3_40000.file\")\n",
    "pris4_names.append(\"PyPRIS_bgSCF2_mu1.0e+04_alpha1.0e-09_pris4_40000.file\")\n",
    "pris5_names.append(\"PyPRIS_bgSCF2_mu1.0e+04_alpha1.0e-09_pris5_40000.file\")\n",
    "pris6_names.append(\"PyPRIS_bgSCF2_mu1.0e+04_alpha1.0e-09_pris6_40000.file\")\n",
    "pris7_names.append(\"PyPRIS_bgSCF2_mu1.0e+04_alpha1.0e-09_pris7_40000.file\")\n",
    "\n",
    "# define the names of the linbreg objects for each pris iteration on fov2.\n",
    "pris0_names.append(\"PyPRIS_bgSCF2_mu1.0e+04_alpha1.0e-09_pris0_4028.file\")\n",
    "pris1_names.append(\"PyPRIS_bgSCF2_mu1.0e+04_alpha1.0e-09_pris1_40000.file\")\n",
    "pris2_names.append(\"PyPRIS_bgSCF2_mu1.0e+04_alpha1.0e-09_pris2_40000.file\")\n",
    "pris3_names.append(\"PyPRIS_bgSCF2_mu1.0e+04_alpha1.0e-09_pris3_40000.file\")\n",
    "pris4_names.append(\"PyPRIS_bgSCF2_mu1.0e+04_alpha1.0e-09_pris4_40000.file\")\n",
    "pris5_names.append(\"PyPRIS_bgSCF2_mu1.0e+04_alpha1.0e-09_pris5_40000.file\")\n",
    "pris6_names.append(\"PyPRIS_bgSCF2_mu1.0e+04_alpha1.0e-09_pris6_40000.file\")\n",
    "pris7_names.append(\"PyPRIS_bgSCF2_mu1.0e+04_alpha1.0e-09_pris7_8879.file\")\n",
    "\n",
    "# define the names of the linbreg objects for each pris iteration on fov3.\n",
    "pris0_names.append(\"PyPRIS_bgSCF2_mu1.0e+04_alpha1.0e-09_pris0_1696.file\")\n",
    "pris1_names.append(\"PyPRIS_bgSCF2_mu1.0e+04_alpha1.0e-09_pris1_40000.file\")\n",
    "pris2_names.append(\"PyPRIS_bgSCF2_mu1.0e+04_alpha1.0e-09_pris2_40000.file\")\n",
    "pris3_names.append(\"PyPRIS_bgSCF2_mu1.0e+04_alpha1.0e-09_pris3_40000.file\")\n",
    "pris4_names.append(\"PyPRIS_bgSCF2_mu1.0e+04_alpha1.0e-09_pris4_40000.file\")\n",
    "pris5_names.append(\"PyPRIS_bgSCF2_mu1.0e+04_alpha1.0e-09_pris5_40000.file\")\n",
    "pris6_names.append(\"PyPRIS_bgSCF2_mu1.0e+04_alpha1.0e-09_pris6_40000.file\")\n",
    "pris7_names.append(\"PyPRIS_bgSCF2_mu1.0e+04_alpha1.0e-09_pris7_40000.file\")\n",
    "\n",
    "# define the names of the linbreg objects for each pris iteration on fov4.\n",
    "pris0_names.append(\"PyPRIS_bgSCF2_mu1.0e+04_alpha1.0e-09_pris0_1330.file\")\n",
    "pris1_names.append(\"PyPRIS_bgSCF2_mu1.0e+04_alpha1.0e-09_pris1_25573.file\")\n",
    "pris2_names.append(\"PyPRIS_bgSCF2_mu1.0e+04_alpha1.0e-09_pris2_40000.file\")\n",
    "pris3_names.append(\"PyPRIS_bgSCF2_mu1.0e+04_alpha1.0e-09_pris3_40000.file\")\n",
    "pris4_names.append(\"PyPRIS_bgSCF2_mu1.0e+04_alpha1.0e-09_pris4_40000.file\")\n",
    "pris5_names.append(\"PyPRIS_bgSCF2_mu1.0e+04_alpha1.0e-09_pris5_40000.file\")\n",
    "pris6_names.append(\"PyPRIS_bgSCF2_mu1.0e+04_alpha1.0e-09_pris6_40000.file\")\n",
    "pris7_names.append(\"PyPRIS_bgSCF2_mu1.0e+04_alpha1.0e-09_pris7_17227.file\")\n",
    "\n",
    "for Ind in np.arange(0, 4):\n",
    "    pris0_linbregs.append(datapath_key_minimum_seed + \"/Feature3/fov\" + str(Ind + 1) + \"/\" + pris0_names[Ind])\n",
    "    pris1_linbregs.append(datapath_key_minimum_seed + \"/Feature3/fov\" + str(Ind + 1) + \"/\" + pris1_names[Ind])\n",
    "    pris2_linbregs.append(datapath_key_minimum_seed + \"/Feature3/fov\" + str(Ind + 1) + \"/\" + pris2_names[Ind])\n",
    "    pris3_linbregs.append(datapath_key_minimum_seed + \"/Feature3/fov\" + str(Ind + 1) + \"/\" + pris3_names[Ind])\n",
    "    pris4_linbregs.append(datapath_key_minimum_seed + \"/Feature3/fov\" + str(Ind + 1) + \"/\" + pris4_names[Ind])\n",
    "    pris5_linbregs.append(datapath_key_minimum_seed + \"/Feature3/fov\" + str(Ind + 1) + \"/\" + pris5_names[Ind])\n",
    "    pris6_linbregs.append(datapath_key_minimum_seed + \"/Feature3/fov\" + str(Ind + 1) + \"/\" + pris6_names[Ind])\n",
    "    pris7_linbregs.append(datapath_key_minimum_seed + \"/Feature3/fov\" + str(Ind + 1) + \"/\" + pris7_names[Ind])\n"
   ]
  },
  {
   "cell_type": "code",
   "execution_count": 38,
   "metadata": {},
   "outputs": [],
   "source": [
    "oxs = [1165, 1155, 1143, 1132 ] \n",
    "oys = [1369, 1392, 1412, 1432 ]"
   ]
  },
  {
   "cell_type": "code",
   "execution_count": 39,
   "metadata": {},
   "outputs": [
    {
     "data": {
      "text/plain": [
       "[1165, 1155, 1143, 1132, 1369, 1392, 1412, 1432]"
      ]
     },
     "execution_count": 39,
     "metadata": {},
     "output_type": "execute_result"
    }
   ],
   "source": [
    "m = [x for ]"
   ]
  },
  {
   "cell_type": "markdown",
   "metadata": {},
   "source": [
    "## check pris0"
   ]
  },
  {
   "cell_type": "code",
   "execution_count": 63,
   "metadata": {},
   "outputs": [
    {
     "name": "stdout",
     "output_type": "stream",
     "text": [
      "11761\n",
      "11761\n",
      "11761\n",
      "11761\n",
      "47040\n",
      "47040\n"
     ]
    }
   ],
   "source": [
    "lb_all = LinBreg('All')\n",
    "x = list()\n",
    "vis_list = list()\n",
    "for lb_path, ox, oy in zip(pris0_linbregs, oxs, oys):\n",
    "    with open(lb_path, \"rb\") as f:\n",
    "        lb = pickle.load(f) \n",
    "    \n",
    "    vis_list.append(lb.candidate_vis())\n",
    "    \n",
    "    for ele in lb.candidate_coords:\n",
    "        lb_all.candidate_coords.append([ele[0],ele[1]+oy,ele[2]+ox])\n",
    "\n",
    "    print(len(lb.x))\n",
    "    for ele in list(lb.x[0:-1]):\n",
    "        x.append(ele)\n",
    "\n",
    "\n",
    "lb_all.candidate_intervals = lb.candidate_intervals\n",
    "lb_all.x = np.asarray(x)\n",
    "print(len(lb_all.candidate_coords))\n",
    "print(len(lb_all.x))"
   ]
  },
  {
   "cell_type": "code",
   "execution_count": 64,
   "metadata": {},
   "outputs": [],
   "source": [
    "m = lb_all.candidate_coords[3]"
   ]
  },
  {
   "cell_type": "code",
   "execution_count": 65,
   "metadata": {},
   "outputs": [
    {
     "data": {
      "text/plain": [
       "list"
      ]
     },
     "execution_count": 65,
     "metadata": {},
     "output_type": "execute_result"
    }
   ],
   "source": [
    "type(m)"
   ]
  },
  {
   "cell_type": "code",
   "execution_count": 69,
   "metadata": {},
   "outputs": [
    {
     "data": {
      "text/plain": [
       "<matplotlib.image.AxesImage at 0xd1e20d9b0>"
      ]
     },
     "execution_count": 69,
     "metadata": {},
     "output_type": "execute_result"
    },
    {
     "data": {
      "image/png": "[encoded data removed]",
      "text/plain": [
       "<Figure size 720x720 with 5 Axes>"
      ]
     },
     "metadata": {
      "needs_background": "light"
     },
     "output_type": "display_data"
    }
   ],
   "source": [
    "vis = lb_all.candidate_vis()\n",
    "plt.figure(figsize=(10,10))\n",
    "plt.subplot(241)\n",
    "plt.imshow(np.mean(vis_list[0],axis=0))\n",
    "plt.subplot(242)\n",
    "plt.imshow(np.mean(vis_list[1],axis=0))\n",
    "plt.subplot(243)\n",
    "plt.imshow(np.mean(vis_list[2],axis=0))\n",
    "plt.subplot(244)\n",
    "plt.imshow(np.mean(vis_list[3],axis=0))\n",
    "\n",
    "plt.subplot(245)\n",
    "plt.imshow(np.mean(vis,axis=0))\n"
   ]
  },
  {
   "cell_type": "code",
   "execution_count": null,
   "metadata": {},
   "outputs": [],
   "source": [
    "vis1 = "
   ]
  }
 ],
 "metadata": {
  "celltoolbar": "Raw Cell Format",
  "kernelspec": {
   "display_name": "PyPRIS_env",
   "language": "python",
   "name": "pypris_env"
  },
  "language_info": {
   "codemirror_mode": {
    "name": "ipython",
    "version": 3
   },
   "file_extension": ".py",
   "mimetype": "text/x-python",
   "name": "python",
   "nbconvert_exporter": "python",
   "pygments_lexer": "ipython3",
   "version": "3.7.3"
  }
 },
 "nbformat": 4,
 "nbformat_minor": 2
}
