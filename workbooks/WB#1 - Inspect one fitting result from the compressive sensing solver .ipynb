{
 "cells": [
  {
   "cell_type": "markdown",
   "metadata": {},
   "source": [
    "# Workbook \\#1 -- visualize a linbreg object and it's corresponding pypris pair"
   ]
  },
  {
   "cell_type": "markdown",
   "metadata": {},
   "source": [
    "### Import tools"
   ]
  },
  {
   "cell_type": "code",
   "execution_count": 1,
   "metadata": {},
   "outputs": [],
   "source": [
    "import sys\n",
    "sys.path.append(\"/u/home/x/xiyuyi/bin\")\n",
    "sys.path.append(\"../PyPRIS\")\n",
    "sys.path.append('/Users/yi10/PyPRIS')\n",
    "from PyPRIS import *\n",
    "import bokeh.io\n",
    "from bokeh.plotting import figure, output_file, show, output_notebook\n",
    "#from bokeh.resources import INLINE\n",
    "#bokeh.io.output_notebook(INLINE)"
   ]
  },
  {
   "cell_type": "markdown",
   "metadata": {},
   "source": [
    "### Define the path strings"
   ]
  },
  {
   "cell_type": "code",
   "execution_count": 2,
   "metadata": {},
   "outputs": [
    {
     "name": "stdout",
     "output_type": "stream",
     "text": [
      "the following file not found:\n",
      "/Users/yi10/Desktop/Research/Projects/P-SPT-PRIS-RAS/results/frame3504/saved_objects/PyPRIS_frame3504_pris4_SensingMx.file\n",
      "There is no sensing matrix detected.\n"
     ]
    }
   ],
   "source": [
    "frameN=3504\n",
    "tickets_path='/Users/yi10/Desktop/Research/Projects/P-SPT-PRIS-RAS/results'\n",
    "objects_path = tickets_path+'/frame'+str(frameN)+'/saved_objects'\n",
    "\n",
    "PyPRIS_name='PyPRIS_frame'+str(frameN)+'_pris4_1000'\n",
    "PyPRIS_SensMx_name='PyPRIS_frame'+str(frameN)+'_pris4_SensingMx'\n",
    "lbpath=objects_path + '/PyPRIS_frame'+str(frameN)+'_pris4_1000.file'\n",
    "\n",
    "lb=loadCSSolver(objects_path, PyPRIS_name, PyPRIS_SensMx_name)\n",
    "pypris = loadPyPRIS(objects_path, 'PyPRIS_pris{}'.format(lb.PyPRIS_iter[4:]))\n",
    "\n"
   ]
  },
  {
   "cell_type": "markdown",
   "metadata": {},
   "source": [
    "### Perform classification\n",
    "perform classification of fitted clusters, and output to a .csv file"
   ]
  },
  {
   "cell_type": "code",
   "execution_count": 3,
   "metadata": {},
   "outputs": [
    {
     "name": "stdout",
     "output_type": "stream",
     "text": [
      "----------- Generate sensing matrix:\n",
      "            Matrix size: 16384  observation pixels \n",
      "                         256  candidates \n"
     ]
    }
   ],
   "source": [
    "outputfile='./clusters.csv'\n",
    "try:\n",
    "    os.remove(outputfile)\n",
    "except:\n",
    "    pass\n",
    "\n",
    "# convert the result from a linbreg object to a list of localizations using clasification.\n",
    "locs=get_clusters_fromlinbreg(lbpath, \n",
    "                           ticketIndex=1, \n",
    "                           csvpath=outputfile, \n",
    "                           D=2, \n",
    "                           save=True)\n",
    "candidate_locs = np.array(pypris.current_candidates)\n",
    "# find the PSF peak offset\n",
    "offset = find_psf_matrix_offset(pypris)"
   ]
  },
  {
   "cell_type": "markdown",
   "metadata": {},
   "source": [
    "### Visualization"
   ]
  },
  {
   "cell_type": "code",
   "execution_count": 4,
   "metadata": {},
   "outputs": [],
   "source": [
    "with open(lbpath,'rb') as f:\n",
    "    lb=pickle.load(f)\n",
    "    \n",
    "from PyPRIS import vis\n",
    "vis.pris_show(locs+offset[[2,1,0]], candidate_locs+offset, lb, outputhtml='./FittingResult.html', saveoption='False')"
   ]
  },
  {
   "cell_type": "code",
   "execution_count": null,
   "metadata": {},
   "outputs": [],
   "source": []
  }
 ],
 "metadata": {
  "kernelspec": {
   "display_name": "pris",
   "language": "python",
   "name": "pris"
  },
  "language_info": {
   "codemirror_mode": {
    "name": "ipython",
    "version": 3
   },
   "file_extension": ".py",
   "mimetype": "text/x-python",
   "name": "python",
   "nbconvert_exporter": "python",
   "pygments_lexer": "ipython3",
   "version": "3.7.3"
  }
 },
 "nbformat": 4,
 "nbformat_minor": 4
}
