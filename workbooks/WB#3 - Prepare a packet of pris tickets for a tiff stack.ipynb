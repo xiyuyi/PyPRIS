{
 "cells": [
  {
   "cell_type": "markdown",
   "metadata": {},
   "source": [
    "# Workbook \\#3 - Prepare a packet of pris tickets for a tiff stack\n",
    "#### Steps:\n",
    "1. take a tiff-stack as the input, and decompose it into a collection if single tiff images, which is going to be handled independently.\n",
    "2. Prepare/choose a ticket type.\n",
    "3. Configure the ticket and save out"
   ]
  },
  {
   "cell_type": "code",
   "execution_count": 1,
   "metadata": {},
   "outputs": [],
   "source": [
    "import sys\n",
    "sys.path.append(\"/u/home/x/xiyuyi/bin\")\n",
    "sys.path.append(\"../PyPRIS\")\n",
    "sys.path.append('/Users/yi10/PyPRIS')\n",
    "from PyPRIS import *\n",
    "import copy\n",
    "import os"
   ]
  },
  {
   "cell_type": "markdown",
   "metadata": {},
   "source": [
    "### Decompose tiff stack"
   ]
  },
  {
   "cell_type": "code",
   "execution_count": 18,
   "metadata": {},
   "outputs": [],
   "source": [
    "batchN=15\n",
    "path_head = '/Users/yi10/Desktop/Research/Projects/P-SPT-PRIS-RAS/simulations/Simu3_validation_of_fittingPerformance_static2D_varDensity'\n",
    "tiff_stack_file = path_head + '/chara_Batch'+str(batchN)+'_noisy_bg20_timeBin1.tif'\n",
    "tiff_stack_output_path = path_head + '/prep_for_PRIS/Pack_chara_Batch'+str(batchN)+'_noisy_bg20_timeBin1'\n",
    "tiff_stack_ticket_folder = path_head + '/prep_for_PRIS/tickets_chara_Batch'+str(batchN)+'_noisy_bg20_timeBin1'\n",
    "try:\n",
    "    os.mkdir(tiff_stack_output_path)\n",
    "except:\n",
    "    pass\n",
    "# make a folder and make output as frame1.tif  to frameN.tif\n",
    "stack=io.imread(tiff_stack_file);\n",
    "for i in np.arange(len(stack)):\n",
    "    io.imsave(tiff_stack_output_path+'/frame'+str(i)+'.tif', stack[i])"
   ]
  },
  {
   "cell_type": "markdown",
   "metadata": {},
   "source": [
    "### prepare a ticket\n",
    "we are going to use SinglePlane ticket here."
   ]
  },
  {
   "cell_type": "code",
   "execution_count": 27,
   "metadata": {},
   "outputs": [
    {
     "name": "stdout",
     "output_type": "stream",
     "text": [
      "0\n",
      "1\n",
      "2\n",
      "3\n",
      "4\n"
     ]
    }
   ],
   "source": [
    "ticket = SinglePlaneTicket()\n",
    "\n",
    "\"where to find the data files, for both blur and observation\"\n",
    "paths = []\n",
    "paths.append(tiff_stack_output_path)\n",
    "#paths.append('/p/lscratchh/yi10/spt-ras/frames')\n",
    "ax0_ranges = []\n",
    "ax0_ranges.append(list([0,1])) # this option with give you 1 slice in PSF model, equivalent to a 2D PSF model.\n",
    "\n",
    "ticket_folders = []\n",
    "ticket_folders.append(tiff_stack_ticket_folder)\n",
    "for frameN in list(np.arange(0,5)):\n",
    "    print(frameN)\n",
    "    for datapath, ax0_range, ticket_folder in zip(paths, ax0_ranges, ticket_folders):\n",
    "        try:\n",
    "            os.mkdir(ticket_folder)\n",
    "        except:\n",
    "            pass\n",
    "        ticket.datapath = datapath\n",
    "        ticket.observation_channel_n = 'SinglePlane'\n",
    "        ticket.plane1_path = \"{}/frame{}.tif\".format(ticket.datapath,str(frameN))\n",
    "        ticket.psf_path = \"{}/psf.tif\".format(ticket.datapath)\n",
    "        ticket.psf_norm_factor = 1 # The PSF normalization factor is a number that \n",
    "                                      # normalizes the total energy of a PSF to be 1\n",
    "                                      # But experimental calibration data, the PSF matrix is often noisy, \n",
    "                                      # so an estimate would be enough.\n",
    "                    # when the background is too strong, we change this to a smaller number.. forces the scale of the signal measures to be higher\n",
    "\n",
    "        \"specification of the psf stack\"\n",
    "        ticket.psfz0 = 101  # the count of the center plane, define it as z=0 in the psf coordinates system.\n",
    "        ticket.observer_edge_padding = False # switch to True when PSF has high bg component.\n",
    "\n",
    "        \"configure the initial candidate pool of this pris ticket\"\n",
    "        ticket.init_candidates_intervals = list([1, 1, 1])\n",
    "        \n",
    "        ticket.init_ax0_range = ax0_range\n",
    "        ticket.init_ax1_range = list([0, 128])\n",
    "        ticket.init_ax2_range = list([0, 128])\n",
    "#        ticket.init_ax1_range = list([0, 128])\n",
    "#        ticket.init_ax2_range = list([0, 128])\n",
    "\n",
    "        \"debug configurations\"\n",
    "        ticket.observer_debugger = False\n",
    "        ticket.tobserver_edge_padding = True\n",
    "\n",
    "        \"output settings\"\n",
    "        ticket.ticket_folder = ticket_folder\n",
    "\n",
    "        \"linbreg configurations\"\n",
    "        ticket.linbreg_alpha = LinBreg(\"X\")\n",
    "        ticket.linbreg_alpha.debug = True\n",
    "        ticket.linbreg_alpha.deep_debug = False\n",
    "\n",
    "        \"ticket.linbreg_alpha.mu = 1000000000\"  # move to loop\n",
    "        \"ticket.linbreg_alpha.alpha = 1e-11\"  # move to loop\n",
    "        ticket.linbreg_alpha.maxit = 3000\n",
    "        ticket.linbreg_alpha.it_check_rem = 0\n",
    "        ticket.linbreg_alpha.debug_it_int = 500\n",
    "        ticket.linbreg_alpha.kick.ints = ticket.linbreg_alpha.maxit # dont kick when density is high.\n",
    "        ticket.linbreg_alpha.kick.eval_ints = 2000\n",
    "        ticket.linbreg_alpha.kick.flag = True\n",
    "        ticket.linbreg_alpha.kick.thres = 0.1\n",
    "        ticket.linbreg_alpha.save_obj_int = 2000\n",
    "        ticket.linbreg_alpha.flag_bg_allow_negative = False # force background to not be negative\n",
    "        ticket.linbreg_alpha.save = True\n",
    "        ticket.expansion = False\n",
    "        ticket.linbreg_alpha.PyPRIS_iter = 0\n",
    "        \"ticket.linbreg_alpha.PyPRIS_name = ticket.name\"  # moved to loop\n",
    "        ticket.linbreg_alpha.path_0 = '.'\n",
    "        \"ticket.bg_scaling_coef = 1.5 \"  # moved to loop\n",
    "        ticket.linbreg_alpha.stopping_loghistpercdelres_thres = -16\n",
    "\n",
    "        \"others\"\n",
    "        ticket.PRIS_iter_end = 5\n",
    "        try:\n",
    "            if not os.path.exists(\"../{}\".format(ticket.ticket_folder)):\n",
    "                os.mkdir(\"../{}\".format(ticket.ticket_folder))\n",
    "        except OSError:\n",
    "            pass\n",
    "\n",
    "        for bgSCF in list([10]): # the bgSCF is background scaling factor. The scales the amplitude of desired background component.\n",
    "            for mu in list([1e6]):\n",
    "                for alpha in list([1e-6]):\n",
    "                    ticket_new = copy.deepcopy(ticket)\n",
    "                    #ticket_new.name = \"bgSCF\" + str(bgSCF) + \"_mu\" + str(\"%1.1e\" % mu) + \"_alpha\" + str(\"%1.1e\" % alpha)\n",
    "                    ticket_new.name=\"frame\"+str(frameN)\n",
    "                    ticket_new.bg_scaling_coef = copy.deepcopy(bgSCF)\n",
    "                    ticket_new.linbreg_alpha.PyPRIS_name = ticket_new.name\n",
    "                    ticket_new.linbreg_alpha.mu = mu\n",
    "                    ticket_new.linbreg_alpha.alpha = alpha\n",
    "                    ticket_new.linbreg_alpha.auto_mu = True\n",
    "                    ticket_new.linbreg_alpha.auto_mu_fold = 100;\n",
    "                    ticket_new.linbreg_alpha.auto_bg = True\n",
    "                    ticket_new.linbreg_alpha.auto_bg_fold = 2  # increase number to make the bg compoentn more competitive than random background 'non-specific-emitters'.\n",
    "                                                                # use a larger number when you think the background component in the calibrated PSF matrix\n",
    "                        # is significantly smaller than tht in the data. \n",
    "                        # you may consider using a number smaller than 1 when you thin the background component in PSF calibration is big or comparable.\n",
    "                    try:\n",
    "                        if not os.path.exists(\"{}/{}\".format(ticket_new.ticket_folder, ticket_new.name)):\n",
    "                            os.mkdir(\"{}/{}\".format(ticket_new.ticket_folder, ticket_new.name))\n",
    "                    except OSError:\n",
    "                        pass\n",
    "                    with open(\"{}/{}/Go.pris_ticket\".format(ticket_new.ticket_folder, ticket_new.name), \"wb\") as f:\n",
    "                        pickle.dump(ticket_new, f, pickle.HIGHEST_PROTOCOL)\n"
   ]
  },
  {
   "cell_type": "markdown",
   "metadata": {},
   "source": [
    "# Now run pris from terminal. \n",
    "use pris_moti"
   ]
  },
  {
   "cell_type": "markdown",
   "metadata": {},
   "source": [
    "seems like bg1 mu100 worked! increase bg to see if it converges a bit faster\n",
    "mu100, bg2 no big differences\n",
    "\n"
   ]
  },
  {
   "cell_type": "markdown",
   "metadata": {},
   "source": [
    "## Check Result\n",
    "\n",
    "refer this workbook below for clustering and classification to convert CS result into a list of localization fittings, and inspection of a single CS result.\n",
    "\n",
    "`~/workbooks/WB#1 - Inspect one fitting result from the compressive sensing solver.ipynb`\n",
    "\n",
    "Refer to this workbook below for visualizations of pris result from pris order 0 to 4\n",
    "\n",
    "`~/workbooks/WB#2 - Inspect fitting results from pris0 to pris4.ipynb`"
   ]
  },
  {
   "cell_type": "code",
   "execution_count": null,
   "metadata": {},
   "outputs": [],
   "source": []
  }
 ],
 "metadata": {
  "kernelspec": {
   "display_name": "PyPRIS_env",
   "language": "python",
   "name": "pypris_env"
  },
  "language_info": {
   "codemirror_mode": {
    "name": "ipython",
    "version": 3
   },
   "file_extension": ".py",
   "mimetype": "text/x-python",
   "name": "python",
   "nbconvert_exporter": "python",
   "pygments_lexer": "ipython3",
   "version": "3.7.3"
  }
 },
 "nbformat": 4,
 "nbformat_minor": 4
}
