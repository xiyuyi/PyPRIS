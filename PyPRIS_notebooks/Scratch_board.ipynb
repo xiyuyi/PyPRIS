{
 "cells": [
  {
   "cell_type": "code",
   "execution_count": 2,
   "metadata": {},
   "outputs": [],
   "source": [
    "import PRIS\n",
    "import numpy as np\n",
    "from matplotlib import pyplot as plt"
   ]
  },
  {
   "cell_type": "code",
   "execution_count": 3,
   "metadata": {},
   "outputs": [],
   "source": [
    "a = PRIS.loadPyPRIS(0,101)"
   ]
  },
  {
   "cell_type": "code",
   "execution_count": 4,
   "metadata": {},
   "outputs": [
    {
     "data": {
      "text/plain": [
       "101"
      ]
     },
     "execution_count": 4,
     "metadata": {},
     "output_type": "execute_result"
    }
   ],
   "source": [
    "a.it_count"
   ]
  },
  {
   "cell_type": "code",
   "execution_count": null,
   "metadata": {
    "scrolled": true
   },
   "outputs": [
    {
     "name": "stderr",
     "output_type": "stream",
     "text": [
      "G:\\DH_localization\\PyPRIS\\PyPRIS_notebooks\\PRIS.py:666: RuntimeWarning: divide by zero encountered in log\n",
      "  self.stopping_loghistpercdelres = abs(np.log(abs(stopping_tag)))*np.sign(stopping_tag)\n",
      "G:\\DH_localization\\PyPRIS\\PyPRIS_notebooks\\PRIS.py:666: RuntimeWarning: invalid value encountered in double_scalars\n",
      "  self.stopping_loghistpercdelres = abs(np.log(abs(stopping_tag)))*np.sign(stopping_tag)\n",
      "G:\\DH_localization\\PyPRIS\\PyPRIS_notebooks\\PRIS.py:661: RuntimeWarning: divide by zero encountered in double_scalars\n",
      "  /self.hist_res[it_count - 1] \\\n"
     ]
    },
    {
     "name": "stdout",
     "output_type": "stream",
     "text": [
      "intermediate output it#201\n"
     ]
    },
    {
     "name": "stderr",
     "output_type": "stream",
     "text": [
      "G:\\DH_localization\\PyPRIS\\PyPRIS_notebooks\\PRIS.py:608: RuntimeWarning: divide by zero encountered in log\n",
      "  plt.plot(self.iterations, abs(np.log(abs(np.asarray(self.hist_res)))) \\\n",
      "G:\\DH_localization\\PyPRIS\\PyPRIS_notebooks\\PRIS.py:609: RuntimeWarning: invalid value encountered in multiply\n",
      "  *np.sign(self.hist_res), \\\n",
      "G:\\DH_localization\\PyPRIS\\PyPRIS_notebooks\\PRIS.py:615: RuntimeWarning: divide by zero encountered in log\n",
      "  plt.plot(self.iterations, abs(np.log(abs(np.asarray(self.hist_delta_res)))) \\\n",
      "G:\\DH_localization\\PyPRIS\\PyPRIS_notebooks\\PRIS.py:616: RuntimeWarning: invalid value encountered in multiply\n",
      "  *np.sign(self.hist_delta_res), \\\n",
      "G:\\DH_localization\\PyPRIS\\PyPRIS_notebooks\\PRIS.py:622: RuntimeWarning: divide by zero encountered in log\n",
      "  plt.plot(self.iterations, abs(np.log(abs(np.asarray(self.hist_percent_delta_res)))) \\\n",
      "G:\\DH_localization\\PyPRIS\\PyPRIS_notebooks\\PRIS.py:623: RuntimeWarning: invalid value encountered in multiply\n",
      "  *np.sign(self.hist_percent_delta_res), \\\n"
     ]
    },
    {
     "name": "stdout",
     "output_type": "stream",
     "text": [
      "Successfully saved Linbreg ID 0 at iteration 201 to directory.\n",
      "intermediate output it#301\n",
      "Successfully saved Linbreg ID 0 at iteration 301 to directory.\n",
      "intermediate output it#401\n",
      "Successfully saved Linbreg ID 0 at iteration 401 to directory.\n",
      "intermediate output it#501\n",
      "Successfully saved Linbreg ID 0 at iteration 501 to directory.\n",
      "intermediate output it#601\n",
      "Successfully saved Linbreg ID 0 at iteration 601 to directory.\n",
      "intermediate output it#701\n",
      "Successfully saved Linbreg ID 0 at iteration 701 to directory.\n",
      "intermediate output it#801\n",
      "Successfully saved Linbreg ID 0 at iteration 801 to directory.\n"
     ]
    }
   ],
   "source": [
    "a.go()"
   ]
  },
  {
   "cell_type": "code",
   "execution_count": null,
   "metadata": {},
   "outputs": [],
   "source": []
  }
 ],
 "metadata": {
  "kernelspec": {
   "display_name": "Python 3",
   "language": "python",
   "name": "python3"
  },
  "language_info": {
   "codemirror_mode": {
    "name": "ipython",
    "version": 3
   },
   "file_extension": ".py",
   "mimetype": "text/x-python",
   "name": "python",
   "nbconvert_exporter": "python",
   "pygments_lexer": "ipython3",
   "version": "3.7.0"
  },
  "latex_envs": {
   "LaTeX_envs_menu_present": true,
   "autoclose": false,
   "autocomplete": true,
   "bibliofile": "biblio.bib",
   "cite_by": "apalike",
   "current_citInitial": 1,
   "eqLabelWithNumbers": true,
   "eqNumInitial": 1,
   "hotkeys": {
    "equation": "Ctrl-E",
    "itemize": "Ctrl-I"
   },
   "labels_anchors": false,
   "latex_user_defs": false,
   "report_style_numbering": false,
   "user_envs_cfg": false
  },
  "toc": {
   "base_numbering": 1,
   "nav_menu": {},
   "number_sections": true,
   "sideBar": true,
   "skip_h1_title": false,
   "title_cell": "Table of Contents",
   "title_sidebar": "Contents",
   "toc_cell": false,
   "toc_position": {},
   "toc_section_display": true,
   "toc_window_display": false
  }
 },
 "nbformat": 4,
 "nbformat_minor": 2
}
