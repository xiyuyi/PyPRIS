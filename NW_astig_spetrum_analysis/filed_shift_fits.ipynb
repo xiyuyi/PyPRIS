{
 "cells": [
  {
   "cell_type": "code",
   "execution_count": 1,
   "metadata": {},
   "outputs": [
    {
     "name": "stdout",
     "output_type": "stream",
     "text": [
      "\n",
      "\n",
      "\n"
     ]
    }
   ],
   "source": [
    "import sys\n",
    "sys.path.append(\"/u/home/a/alejandr/bin\")\n",
    "sys.path.append(\"/u/home/x/xiyuyi/bin\")\n",
    "sys.path.append(\"G:\\\\DH_localization\\\\PyPRIS\")\n",
    "from PyPRIS import *\n",
    "import os\n",
    "print(\"\")\n",
    "print(\"\")\n",
    "print(\"\")\n",
    "import warnings\n",
    "warnings.filterwarnings(\"ignore\")"
   ]
  },
  {
   "cell_type": "code",
   "execution_count": 6,
   "metadata": {},
   "outputs": [],
   "source": [
    "obj_fpath = 'G:\\\\DH_localization\\\\PyPRIS_CL_set1\\\\bgSCF12_mu1.0e+08_alpha1.0e-05_thres-17zrange-19to19_chosen\\\\saved_objects'\n",
    "linbreg_fpath = obj_fpath+'\\\\PyPRIS_bgSCF12_mu1.0e+08_alpha1.0e-05_thres-17zrange-19to19_pris6_80000.file'\n",
    "pypris_fpath = obj_fpath+'\\\\PyPRIS_pris6.file'\n",
    "\n",
    "'''\n",
    "\n",
    "load the linbreg object from the 0th order result\n",
    "\n",
    "'''\n",
    "\n",
    "with open(linbreg_fpath,'rb') as f:\n",
    "    linb0 = pickle.load(f)\n",
    "\n",
    "with open(pypris_fpath,'rb') as f:\n",
    "    pypris0 = pickle.load(f)\n"
   ]
  },
  {
   "cell_type": "code",
   "execution_count": 11,
   "metadata": {},
   "outputs": [
    {
     "name": "stdout",
     "output_type": "stream",
     "text": [
      "PyPRIS_iter\n",
      "PyPRIS_name\n",
      "path_0\n",
      "A\n",
      "x\n",
      "b\n",
      "flag_stop\n",
      "maxit\n",
      "debug_it_int\n",
      "flag_positivity\n",
      "it_check_rem\n",
      "iterations\n",
      "hist_res\n",
      "hist_delta_res\n",
      "hist_percent_delta_res\n",
      "stopping_moni_start\n",
      "it_count\n",
      "candidate_coords\n",
      "stopping_loghistpercdelres_thres\n",
      "stopping_loghistpercdelres\n",
      "save_obj_int\n",
      "bg\n",
      "alpha\n",
      "save\n",
      "obs_dim0\n",
      "obs_dim1\n",
      "kick\n",
      "A_dir\n",
      "mu_reference\n",
      "debug\n",
      "deep_debug\n",
      "mu\n",
      "candidate_intervals\n",
      "stepsize\n",
      "res\n",
      "respj\n",
      "cumres\n",
      "recb\n",
      "path_s\n",
      "path_d\n"
     ]
    }
   ],
   "source": [
    "for x in linb0.__dict__.keys():\n",
    "    print(x)"
   ]
  },
  {
   "cell_type": "code",
   "execution_count": 12,
   "metadata": {},
   "outputs": [
    {
     "name": "stdout",
     "output_type": "stream",
     "text": [
      "name\n",
      "positivity\n",
      "observation\n",
      "current_relReF\n",
      "current_PRIS_ItN\n",
      "current_A\n",
      "current_candidates\n",
      "current_candidates_intervals\n",
      "current_check_mark_id\n",
      "hist_candidates\n",
      "hist_candidates_intervals\n",
      "hist_PRIS_ItN\n",
      "hist_check_mark_id\n",
      "observator\n",
      "ifsave\n",
      "path_s\n",
      "expansion\n",
      "observe\n"
     ]
    }
   ],
   "source": [
    "for x in pypris0.__dict__.keys():\n",
    "    print(x)"
   ]
  },
  {
   "cell_type": "code",
   "execution_count": 13,
   "metadata": {},
   "outputs": [
    {
     "data": {
      "text/plain": [
       "array([], dtype=float64)"
      ]
     },
     "execution_count": 13,
     "metadata": {},
     "output_type": "execute_result"
    }
   ],
   "source": []
  },
  {
   "cell_type": "code",
   "execution_count": 17,
   "metadata": {},
   "outputs": [
    {
     "data": {
      "text/plain": [
       "NoneType"
      ]
     },
     "execution_count": 17,
     "metadata": {},
     "output_type": "execute_result"
    }
   ],
   "source": [
    "\n"
   ]
  },
  {
   "cell_type": "code",
   "execution_count": null,
   "metadata": {},
   "outputs": [],
   "source": []
  }
 ],
 "metadata": {
  "kernelspec": {
   "display_name": "PyPRIS_env",
   "language": "python",
   "name": "pypris_env"
  },
  "language_info": {
   "codemirror_mode": {
    "name": "ipython",
    "version": 3
   },
   "file_extension": ".py",
   "mimetype": "text/x-python",
   "name": "python",
   "nbconvert_exporter": "python",
   "pygments_lexer": "ipython3",
   "version": "3.7.3"
  }
 },
 "nbformat": 4,
 "nbformat_minor": 2
}
