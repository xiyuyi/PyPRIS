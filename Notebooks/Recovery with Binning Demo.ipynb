{
 "cells": [
  {
   "cell_type": "markdown",
   "metadata": {},
   "source": [
    "# 2D Recovery with Binning Demo with Linear Bregman Iteration\n",
    "\n",
    "\n",
    "\n",
    "by Xingjia Wang\n",
    "\n",
    "Summary: The following notebook contains a demonstration of using Linear Bregman Iteration to recover a random 2D image (represented by a 2D numpy array) with binning."
   ]
  },
  {
   "cell_type": "markdown",
   "metadata": {},
   "source": [
    "## Unit Import"
   ]
  },
  {
   "cell_type": "code",
   "execution_count": 1,
   "metadata": {},
   "outputs": [],
   "source": [
    "import numpy as np\n",
    "import scipy.ndimage\n",
    "import scipy.ndimage.filters as fi\n",
    "import scipy.stats as st\n",
    "import matplotlib.pyplot as plt"
   ]
  },
  {
   "cell_type": "code",
   "execution_count": 2,
   "metadata": {},
   "outputs": [],
   "source": [
    "from linBreg import *"
   ]
  },
  {
   "cell_type": "markdown",
   "metadata": {},
   "source": [
    "## Used Functions\n",
    "\n",
    "### Data Generating Functions\n",
    "\n",
    "- gkern(kernlen=21, nsig=3): returns a 2D Gaussian Kernel\n",
    "- applyK(K, n, loc=0, binsize=1): returns a sensing matrix with selected kernel"
   ]
  },
  {
   "cell_type": "code",
   "execution_count": 3,
   "metadata": {},
   "outputs": [],
   "source": [
    "# Generating a 2d Gaussian kernel\n",
    "def gkern(kernlen=21, nsig=3):\n",
    "    \"\"\"Returns a 2D Gaussian kernel array.\"\"\"\n",
    "    interval = (2*nsig+1.)/(kernlen)\n",
    "    x = np.linspace(-nsig-interval/2., nsig+interval/2., kernlen+1)\n",
    "    kern1d = np.diff(st.norm.cdf(x))\n",
    "    kernel_raw = np.sqrt(np.outer(kern1d, kern1d))\n",
    "    kernel = kernel_raw/kernel_raw.sum()\n",
    "    return kernel"
   ]
  },
  {
   "cell_type": "code",
   "execution_count": 4,
   "metadata": {},
   "outputs": [],
   "source": [
    "# Function of applying kernel onto each pixel of an empty canvas that is of the same size as the ground truth and \n",
    "# Generates a sensing matrix\n",
    "\n",
    "def applyK(K, n, loc = 0, binsize = 1):\n",
    "    \n",
    "    # loc = 0 or np.array((len, 2))\n",
    "    \n",
    "    if (type(loc) == int):\n",
    "        A = np.zeros((pow(n//binsize,2), pow(n,2)))\n",
    "        kernal_half_width = len(K)//2\n",
    "        for xind in np.arange(0,n):\n",
    "            for yind in np.arange(0,n):\n",
    "                im = np.zeros((n,n))\n",
    "                Ind = xind*n + yind\n",
    "                im_x1 = np.max([xind - kernal_half_width, 0])\n",
    "                im_x2 = np.min([xind + kernal_half_width, n])\n",
    "                im_y1 = np.max([yind - kernal_half_width, 0])\n",
    "                im_y2 = np.min([yind + kernal_half_width, n])\n",
    "\n",
    "                k_x1 = kernal_half_width - (xind - im_x1)\n",
    "                k_x2 = kernal_half_width + (im_x2 - xind)\n",
    "                k_y1 = kernal_half_width - (yind - im_y1)\n",
    "                k_y2 = kernal_half_width + (im_y2 - yind)\n",
    "\n",
    "                im[im_x1:im_x2, im_y1:im_y2] = K[k_x1:k_x2, k_y1:k_y2]\n",
    "                A[:,Ind]=binPixel(np.reshape(im, (n,n)), binsize).ravel()\n",
    "    else:\n",
    "        A = np.zeros((pow(n//binsize,2), len(loc)))\n",
    "        #print(len(loc))\n",
    "        kernal_half_width = len(K)//2\n",
    "        Ind = 0\n",
    "        for idx in loc:\n",
    "            xind = idx[0]\n",
    "            yind = idx[1]\n",
    "            im = np.zeros((n,n))\n",
    "            im_x1 = np.max([xind - kernal_half_width, 0])\n",
    "            im_x2 = np.min([xind + kernal_half_width, n])\n",
    "            im_y1 = np.max([yind - kernal_half_width, 0])\n",
    "            im_y2 = np.min([yind + kernal_half_width, n])\n",
    "            \n",
    "            k_x1 = kernal_half_width - (xind - im_x1)\n",
    "            k_x2 = kernal_half_width + (im_x2 - xind)\n",
    "            k_y1 = kernal_half_width - (yind - im_y1)\n",
    "            k_y2 = kernal_half_width + (im_y2 - yind)\n",
    "\n",
    "            im[im_x1:im_x2, im_y1:im_y2] = K[k_x1:k_x2, k_y1:k_y2]\n",
    "            A[:,Ind]=binPixel(np.reshape(im, (n,n)), binsize).ravel()\n",
    "            Ind += 1\n",
    "    return A"
   ]
  },
  {
   "cell_type": "markdown",
   "metadata": {},
   "source": [
    "### Binning Functions\n",
    "\n",
    "- binPixel(p, ind): returns a binned matrix"
   ]
  },
  {
   "cell_type": "code",
   "execution_count": 5,
   "metadata": {},
   "outputs": [],
   "source": [
    "# Function of binning p by ind*ind pixels\n",
    "\n",
    "def binPixel(p, ind):\n",
    "    x = p.shape[0]\n",
    "    y = p.shape[1]\n",
    "    a1 = p.reshape((x*y//ind,ind)).sum(1).reshape(x,y//ind).transpose().reshape(x*y//ind//ind,ind).sum(1).reshape(y//ind,x//ind).transpose()\n",
    "    return a1"
   ]
  },
  {
   "cell_type": "markdown",
   "metadata": {},
   "source": [
    "## Simulation Run\n",
    "\n",
    "### Data Initialization"
   ]
  },
  {
   "cell_type": "code",
   "execution_count": 6,
   "metadata": {},
   "outputs": [],
   "source": [
    "n = 40\n",
    "sig = 6\n",
    "binsize = 4"
   ]
  },
  {
   "cell_type": "code",
   "execution_count": 7,
   "metadata": {},
   "outputs": [],
   "source": [
    "# Generating a Gaussian Kernel\n",
    "K = gkern(n+1, sig)\n",
    "\n",
    "# Generating A\n",
    "A = applyK(K, n)\n",
    "\n",
    "# Generating a Ground Truth\n",
    "\n",
    "imTest = np.zeros((n,n))\n",
    "midpoint = int(np.ceil(n/2))\n",
    "idx = np.random.randint(0,n-1,midpoint)\n",
    "for i in idx:\n",
    "    imTest[i][np.random.randint(0,n-1)] = np.random.rand()\n",
    "    \n",
    "# Generating the blur from sensing matrix\n",
    "l = np.matmul(A, imTest.ravel())\n",
    "im = l.reshape((n,n))\n",
    "\n",
    "# Generating a binned sensing matrix\n",
    "A_bin = applyK(K, n, 0, binsize)\n",
    "\n",
    "# Binning the blur\n",
    "im_bin = binPixel(im,binsize)"
   ]
  },
  {
   "cell_type": "markdown",
   "metadata": {},
   "source": [
    "### Recovery without Binning"
   ]
  },
  {
   "cell_type": "code",
   "execution_count": 9,
   "metadata": {
    "scrolled": true
   },
   "outputs": [
    {
     "name": "stdout",
     "output_type": "stream",
     "text": [
      "10000\n",
      "20000\n",
      "30000\n"
     ]
    },
    {
     "data": {
      "image/png": "[encoded data removed]",
      "text/plain": [
       "<Figure size 432x288 with 2 Axes>"
      ]
     },
     "metadata": {
      "needs_background": "light"
     },
     "output_type": "display_data"
    }
   ],
   "source": [
    "u = linbreg(l, A, threshold = 1e7, stepsize = 3e-8, maxstep = 7e4, crit = 1e-5)"
   ]
  },
  {
   "cell_type": "markdown",
   "metadata": {},
   "source": [
    "### Recovery with Binning"
   ]
  },
  {
   "cell_type": "code",
   "execution_count": 11,
   "metadata": {},
   "outputs": [
    {
     "name": "stdout",
     "output_type": "stream",
     "text": [
      "10000\n",
      "20000\n",
      "30000\n",
      "40000\n",
      "50000\n",
      "60000\n",
      "70000\n",
      "80000\n",
      "90000\n",
      "100000\n"
     ]
    },
    {
     "data": {
      "image/png": "[encoded data removed]",
      "text/plain": [
       "<Figure size 432x288 with 2 Axes>"
      ]
     },
     "metadata": {
      "needs_background": "light"
     },
     "output_type": "display_data"
    }
   ],
   "source": [
    "u_bin = linbreg(im_bin.ravel(), A_bin, threshold= 1e10, stepsize = 1e-11, maxstep = 5e4, crit = 1e-6)"
   ]
  },
  {
   "cell_type": "markdown",
   "metadata": {},
   "source": [
    "## Results Visualization"
   ]
  },
  {
   "cell_type": "code",
   "execution_count": 12,
   "metadata": {},
   "outputs": [
    {
     "data": {
      "image/png": "[encoded data removed]",
      "text/plain": [
       "<Figure size 720x576 with 6 Axes>"
      ]
     },
     "metadata": {
      "needs_background": "light"
     },
     "output_type": "display_data"
    }
   ],
   "source": [
    "'''\n",
    "Kernel, blur; sensing matrix check; gth check; recovery check; list of parameters\n",
    "'''\n",
    "font = {'family' : 'DejaVu Sans',\n",
    "  'size' : 12}\n",
    "plt.rc('font', **font)\n",
    "\n",
    "fig_size = plt.rcParams[\"figure.figsize\"]\n",
    "fig_size[0] = 10\n",
    "fig_size[1] = 8\n",
    "\n",
    "ax0 = plt.subplot(231)\n",
    "ax0.get_xaxis().set_label_position('bottom')\n",
    "ax0.set_title(\"Ground Truth\")\n",
    "ax0.imshow(imTest)\n",
    "\n",
    "ax1 = plt.subplot(232)\n",
    "ax1.set_title(\"Recovery from Blur\")\n",
    "ax1.imshow(u)\n",
    "\n",
    "ax2 = plt.subplot(233)\n",
    "ax2.set_title( \"Recovery from Binned Blur\")\n",
    "ax2.imshow(u_bin)\n",
    "\n",
    "ax3 = plt.subplot(234)\n",
    "ax3.set_title(\"Kernel(gkern, nsig={})\".format(sig))\n",
    "ax3.imshow(K)\n",
    "\n",
    "ax4 = plt.subplot(235)\n",
    "ax4.set_title(\"Blur\")\n",
    "ax4.imshow(im)\n",
    "\n",
    "ax5 = plt.subplot(236)\n",
    "ax5.set_title(\"Binned Blur\")\n",
    "ax5.imshow(im_bin)\n",
    "\n",
    "plt.subplots_adjust(hspace=.4) \n",
    "\n",
    "plt.suptitle(\"Simulation Result for {}x{} Binning\".format(binsize,binsize), size = 20)\n",
    "plt.savefig(\"B_{}_NSig_{}_{}x{}.jpg\".format(binsize,sig,n,n))\n"
   ]
  }
 ],
 "metadata": {
  "kernelspec": {
   "display_name": "Python 3",
   "language": "python",
   "name": "python3"
  },
  "language_info": {
   "codemirror_mode": {
    "name": "ipython",
    "version": 3
   },
   "file_extension": ".py",
   "mimetype": "text/x-python",
   "name": "python",
   "nbconvert_exporter": "python",
   "pygments_lexer": "ipython3",
   "version": "3.7.0"
  }
 },
 "nbformat": 4,
 "nbformat_minor": 2
}
